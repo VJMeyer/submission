{
 "cells": [
  {
   "cell_type": "markdown",
   "metadata": {},
   "source": [
    "# Automating the Modelling of Transformative Artificial Intelligence\n",
    "\n",
    "Risks\n",
    "\n",
    "An Epistemic Framework for Leveraging Frontier AI Systems to Upscale Conditional Policy Assessments in Bayesian Networks on a Narrow Path towards Existential Safety\n",
    "\n",
    "Valentin Jakob Meyer [![](data:image/png;base64,iVBORw0KGgoAAAANSUhEUgAAABAAAAAQCAYAAAAf8/9hAAAAGXRFWHRTb2Z0d2FyZQBBZG9iZSBJbWFnZVJlYWR5ccllPAAAA2ZpVFh0WE1MOmNvbS5hZG9iZS54bXAAAAAAADw/eHBhY2tldCBiZWdpbj0i77u/IiBpZD0iVzVNME1wQ2VoaUh6cmVTek5UY3prYzlkIj8+IDx4OnhtcG1ldGEgeG1sbnM6eD0iYWRvYmU6bnM6bWV0YS8iIHg6eG1wdGs9IkFkb2JlIFhNUCBDb3JlIDUuMC1jMDYwIDYxLjEzNDc3NywgMjAxMC8wMi8xMi0xNzozMjowMCAgICAgICAgIj4gPHJkZjpSREYgeG1sbnM6cmRmPSJodHRwOi8vd3d3LnczLm9yZy8xOTk5LzAyLzIyLXJkZi1zeW50YXgtbnMjIj4gPHJkZjpEZXNjcmlwdGlvbiByZGY6YWJvdXQ9IiIgeG1sbnM6eG1wTU09Imh0dHA6Ly9ucy5hZG9iZS5jb20veGFwLzEuMC9tbS8iIHhtbG5zOnN0UmVmPSJodHRwOi8vbnMuYWRvYmUuY29tL3hhcC8xLjAvc1R5cGUvUmVzb3VyY2VSZWYjIiB4bWxuczp4bXA9Imh0dHA6Ly9ucy5hZG9iZS5jb20veGFwLzEuMC8iIHhtcE1NOk9yaWdpbmFsRG9jdW1lbnRJRD0ieG1wLmRpZDo1N0NEMjA4MDI1MjA2ODExOTk0QzkzNTEzRjZEQTg1NyIgeG1wTU06RG9jdW1lbnRJRD0ieG1wLmRpZDozM0NDOEJGNEZGNTcxMUUxODdBOEVCODg2RjdCQ0QwOSIgeG1wTU06SW5zdGFuY2VJRD0ieG1wLmlpZDozM0NDOEJGM0ZGNTcxMUUxODdBOEVCODg2RjdCQ0QwOSIgeG1wOkNyZWF0b3JUb29sPSJBZG9iZSBQaG90b3Nob3AgQ1M1IE1hY2ludG9zaCI+IDx4bXBNTTpEZXJpdmVkRnJvbSBzdFJlZjppbnN0YW5jZUlEPSJ4bXAuaWlkOkZDN0YxMTc0MDcyMDY4MTE5NUZFRDc5MUM2MUUwNEREIiBzdFJlZjpkb2N1bWVudElEPSJ4bXAuZGlkOjU3Q0QyMDgwMjUyMDY4MTE5OTRDOTM1MTNGNkRBODU3Ii8+IDwvcmRmOkRlc2NyaXB0aW9uPiA8L3JkZjpSREY+IDwveDp4bXBtZXRhPiA8P3hwYWNrZXQgZW5kPSJyIj8+84NovQAAAR1JREFUeNpiZEADy85ZJgCpeCB2QJM6AMQLo4yOL0AWZETSqACk1gOxAQN+cAGIA4EGPQBxmJA0nwdpjjQ8xqArmczw5tMHXAaALDgP1QMxAGqzAAPxQACqh4ER6uf5MBlkm0X4EGayMfMw/Pr7Bd2gRBZogMFBrv01hisv5jLsv9nLAPIOMnjy8RDDyYctyAbFM2EJbRQw+aAWw/LzVgx7b+cwCHKqMhjJFCBLOzAR6+lXX84xnHjYyqAo5IUizkRCwIENQQckGSDGY4TVgAPEaraQr2a4/24bSuoExcJCfAEJihXkWDj3ZAKy9EJGaEo8T0QSxkjSwORsCAuDQCD+QILmD1A9kECEZgxDaEZhICIzGcIyEyOl2RkgwAAhkmC+eAm0TAAAAABJRU5ErkJggg==)](https://orcid.org/0009-0006-0889-5269) (University of Bayreuth, MCMP — LMU Munich)  \n",
    "Dr. Timo Speith (University of Bayreuth)  \n",
    "May 26, 2025\n",
    "\n",
    "This thesis addresses coordination problems in AI safety by creating tools that automatically extract and formalize the assumptions and models underlying different approaches to AI governance. By transforming complex arguments into interactive visualizations showing relationships and probabilities, AMTAIR helps bridge communication gaps between technical researchers, policy specialists, and other stakeholders working to address risks from advanced AI.\n",
    "\n",
    "# Abstract\n",
    "\n",
    "The coordination crisis in AI governance presents a paradoxical challenge: unprecedented investment in AI safety coexists alongside fundamental coordination failures across technical, policy, and ethical domains. These divisions systematically increase existential risk by creating safety gaps, misallocating resources, and fostering inconsistent approaches to interdependent problems. This thesis introduces AMTAIR (Automating Transformative AI Risk Modeling), a computational approach that addresses this coordination failure by automating the extraction of probabilistic world models from AI safety literature using frontier language models.\n",
    "\n",
    "The AMTAIR system implements an end-to-end pipeline that transforms unstructured text into interactive Bayesian networks through a novel two-stage extraction process: first capturing argument structure in ArgDown format, then enhancing it with probability information in BayesDown. This approach bridges communication gaps between stakeholders by making implicit models explicit, enabling comparison across different worldviews, providing a common language for discussing probabilistic relationships, and supporting policy evaluation across diverse scenarios."
   ],
   "id": "73266c02-d8d7-44f7-9958-b03c1f80263f"
  },
  {
   "cell_type": "raw",
   "metadata": {
    "raw_mimetype": "text/html"
   },
   "source": [
    "<!-- [ ] Figure out Outline to Outline to Draft Workflow -->"
   ],
   "id": "524aa36d-bfbf-4d05-87b9-04bf8fde2a82"
  },
  {
   "cell_type": "raw",
   "metadata": {
    "raw_mimetype": "text/html"
   },
   "source": [
    "<!-- [ ] Figure out Thesis \"styling\" (book vs manuscript) -->"
   ],
   "id": "8975d708-c325-4eb3-818e-e41737d816cd"
  },
  {
   "cell_type": "raw",
   "metadata": {
    "raw_mimetype": "text/html"
   },
   "source": [
    "<!-- [ ] Setup reliable \"save as PDF\" -->"
   ],
   "id": "211ff0a9-b69b-4520-83b7-e78499604377"
  },
  {
   "cell_type": "raw",
   "metadata": {
    "raw_mimetype": "text/html"
   },
   "source": [
    "<!-- [ ] Setup \"save as LaTeX\" -->"
   ],
   "id": "0887d9f5-fa56-4bde-a417-88d46b955d08"
  },
  {
   "cell_type": "raw",
   "metadata": {
    "raw_mimetype": "text/html"
   },
   "source": [
    "<!-- [ ] Adapt LaTeX / PDF based on (journal) template -->"
   ],
   "id": "6dece442-5dcb-4d1d-9a90-c071c44b1819"
  },
  {
   "cell_type": "raw",
   "metadata": {
    "raw_mimetype": "text/html"
   },
   "source": [
    "<!-- [ ]: Clean up the introduction -->"
   ],
   "id": "c983385c-0573-4f18-86bb-6043f0317fdb"
  },
  {
   "cell_type": "raw",
   "metadata": {
    "raw_mimetype": "text/html"
   },
   "source": [
    "<!-- [ ]: Test Quarto-Code-Links: https://quarto.org/docs/manuscripts/components.html#code-links -->"
   ],
   "id": "4e79363d-a3b5-4b00-87d8-2933d8d8ceb1"
  },
  {
   "cell_type": "code",
   "execution_count": null,
   "metadata": {},
   "outputs": [],
   "source": [
    "# [ ]: Configure the Quarto Manuscript options: https://quarto.org/docs/manuscripts/components.html#including-notebooks"
   ],
   "id": "7f2793bf-1c4e-435c-bf94-8b6287cebe6f"
  },
  {
   "cell_type": "raw",
   "metadata": {
    "raw_mimetype": "text/html"
   },
   "source": [
    "<!-- \n",
    "# Grading\n",
    "\n",
    "\n",
    "\n",
    "\n",
    "## Structure (10%)\n",
    "• outlines project clearly in the introduction\n",
    "• discussion follows a logical order\n",
    "• order of sections corresponds to outline\n",
    "• uses appropriate topic and transition sentences\n",
    "• employs proper signposting and cross-referencing throughout paper\n",
    "• sections are appropriately numbered and headlined\n",
    "\n",
    "##Language and Style (10%)\n",
    "• employs appropriate tone and academic language\n",
    "• uses effective and sophisticated sentence variety, diction, and vocabulary\n",
    "• employs correct English spelling and grammar\n",
    "• is clearly written and uses appropriate sentence complexity\n",
    "• communicates main points effectively / is easy to follow\n",
    "• formats citations and references correctly and consistently (e.g. (AUTHOR, YEAR) citation style)\n",
    "• names all primary and secondary sources\n",
    "• includes a complete list of references with full bibliographic details\n",
    "\n",
    " -->"
   ],
   "id": "9e04c3c4-193b-47aa-9bf0-f6225900022d"
  },
  {
   "cell_type": "markdown",
   "metadata": {},
   "source": [
    "## 0.1 Grading\n",
    "\n",
    "### 0.1.1 Research (10%)\n",
    "\n",
    "-   demonstrates knowledge of the subject area as drawn from appropriate sources\n",
    "-   incorporates insights from in-class discussions\n",
    "-   draws on appropriate additional materials beyond those covered in class (primary as well as secondary sources)\n",
    "-   covers relevant material at appropriate level of detail"
   ],
   "id": "908613a6-79d4-4d3b-8c24-d6719bb20887"
  },
  {
   "cell_type": "raw",
   "metadata": {
    "raw_mimetype": "text/html"
   },
   "source": [
    "<!-- ::: callout-tip -->"
   ],
   "id": "4f3254c9-614a-4b55-b1a5-3c8e90b8ec45"
  },
  {
   "cell_type": "markdown",
   "metadata": {},
   "source": [
    "## 0.2 Callout Test — Language & Style\n",
    "\n",
    "• employs appropriate tone and academic language • uses effective and sophisticated sentence variety, diction, and vocabulary • employs correct English spelling and grammar • is clearly written and uses appropriate sentence complexity • communicates main points effectively / is easy to follow • formats citations and references correctly and consistently (e.g. (AUTHOR, YEAR) citation style) • names all primary and secondary sources • includes a complete list of references with full bibliographic details <!-- ::: -->\n",
    "\n",
    "More text\n",
    "\n",
    "# 1. Introduction\n",
    "\n",
    "## 1.1 Introduction\n",
    "\n",
    "10% of Grade:\n",
    "\n",
    "• introduces and motivates the core question or problem • provides context for discussion (places issue within a larger debate or sphere of relevance) • states precise thesis or position the author will argue for • provides roadmap indicating structure and key content points of the essay\n",
    "\n",
    "~ 14% of text ~ 4200 words\n",
    "\n",
    "• introduces and motivates the core question or problem\n",
    "\n",
    "## 1.2 Motivation: Problem Statement\n",
    "\n",
    "## 1.3 Motivation: Research Question\n",
    "\n",
    "• provides context for discussion (places issue within a larger debate or sphere of relevance)\n",
    "\n",
    "## 1.4 Scope: Aim & Context of the Research\n",
    "\n",
    "## 1.5 Significance of the Research: Theory of Change\n",
    "\n",
    "• states precise thesis or position the author will argue for\n",
    "\n",
    "## 1.6 Thesis Statement & Position: (Aim of the Paper)\n",
    "\n",
    "• provides roadmap indicating structure and key content points of the essay\n",
    "\n",
    "## 1.7 Overview: Structure & Approach of the Paper (Roadmap — Theory of Change)\n",
    "\n",
    "## 1.8 Table of Contents\n",
    "\n",
    "# 2. Context\n",
    "\n",
    "### 2.0.1 20% of Grade:\n",
    "\n",
    "-   demonstrates understanding of all relevant core concepts\n",
    "\n",
    "-   explains why the question/thesis/problem is relevant in student’s own words (supported by quotations)\n",
    "\n",
    "-   situates it within the debate/course material\n",
    "\n",
    "-   reconstructs selected arguments and identifies relevant assumptions\n",
    "\n",
    "-   describes additional relevant material that has been consulted and integrates it with the course material as well as the research question/thesis/problem\n",
    "\n",
    "~ 29% of text ~ 8700 words\n",
    "\n",
    "1.  successively (chunk my chunk) introduce concepts/ideas — and 2. ground each with existing literature\n",
    "\n",
    "<!-- ---\n",
    "title: \"Background\"\n",
    "# Control if this file starts numbering\n",
    "numbering:\n",
    "  start-at: 2      # Start at Section 1\n",
    "  level: 2         # Chapter level\n",
    "--- -->\n",
    "\n",
    "## 2.1 Theoretical Background Considerations\n",
    "\n",
    "### 2.1.1 DAG / BayesNets\n",
    "\n",
    "### 2.1.2 State of the art (MTAIR) — Explanation\n",
    "\n",
    "#### 2.1.2.1 Carlsmith Model (Analytica)\n",
    "\n",
    "### 2.1.3 (Intro) Example — Rain/Sprinkler/Lawn\n",
    "\n",
    "/ Rain/Sprinkler/Lawn DAG / BayesNet — Extended Example\n",
    "\n",
    "    …\n",
    "\n",
    "Own Position/Argument: AMTAIR … Own Rain/Sprinkler/Lawn DAG / BayesNet Implementation\n",
    "\n",
    "<!-- ---\n",
    "title: \"Methodology\"\n",
    "# Control if this file starts numbering\n",
    "numbering:\n",
    "  start-at: 2      # Start at Section 1\n",
    "  level: 2         # Chapter level\n",
    "--- -->\n",
    "\n",
    "## 2.2 Methodology\n",
    "\n",
    "MTAIR / Carlsmith Model (Analytica) — Explanation (— is motivation: should come first)\n",
    "\n",
    "### 2.2.1 Kialo\n",
    "\n",
    "### 2.2.2 Rain/Sprinkler/Lawn DAG\n",
    "\n",
    "### 2.2.3 BayeServer\n",
    "\n",
    "### 2.2.4 BayesNet — Extended Example\n",
    "\n",
    "### 2.2.5 Code + documentation\n",
    "\n",
    "# 3. AMTAIR\n",
    "\n",
    "### 3.0.1 20% of Grade:\n",
    "\n",
    "• provides critical or constructive evaluation of positions introduced • develops strong (plausible) argument in support of author’s own position/thesis • argument draws on relevant course material • claim/argument demonstrates understanding of the course materials incl. key arguments and core concepts within the debate • claim/argument is original or insightful, possibly even presents an original contribution to the debate\n",
    "\n",
    "~ 29% of text ~ 8700 words\n",
    "\n",
    "## 3.1 Own Carlsmith Model Implementation — Explanation\n",
    "\n",
    "## 3.2 Own Implementation: Good example from a published paper\n",
    "\n",
    "## 3.3 Implementation\n",
    "\n",
    "TestText\n",
    "\n",
    "## 3.4 Results\n",
    "\n",
    "TestText\n",
    "\n",
    "<!-- No Headings after .md inclusion (creates a fatal bug with the ToC) -->\n",
    "\n",
    "# 4. Discussion\n",
    "\n",
    "## 4.1 Discussion\n",
    "\n",
    "10% of Grade:\n",
    "\n",
    "• discusses a specific objection to student’s own argument • provides a convincing reply that bolsters or refines the main argument • relates to or extends beyond materials/arguments covered in class\n",
    "\n",
    "~ 14% of text ~ 4200 words\n",
    "\n",
    "# 5. Conclusion\n",
    "\n",
    "## 5.1 Conclusion\n",
    "\n",
    "10% of Grade:\n",
    "\n",
    "• summarizes thesis and line of argument • outlines possible implications • notes outstanding issues / limitations of discussion • points to avenues for further research • overall conclusion is in line with introduction\n",
    "\n",
    "~ 14% of text ~ 4200 words"
   ],
   "id": "0116264b-c700-4760-914e-4b24de3cbe12"
  },
  {
   "cell_type": "raw",
   "metadata": {
    "raw_mimetype": "text/html"
   },
   "source": [
    "<!-- {{< include context/GradingRubric.md >}} -->"
   ],
   "id": "0d7e78d7-833c-46e5-bf00-e2f86767fe79"
  },
  {
   "cell_type": "markdown",
   "metadata": {},
   "source": [
    "## Bibliography/References\n",
    "\n",
    "# Prefatory Apparatus: Illustrations and Terminology — Quick References"
   ],
   "id": "6fa58957-4b32-439e-bfd6-172bab8d7f7b"
  },
  {
   "cell_type": "raw",
   "metadata": {
    "raw_mimetype": "text/html"
   },
   "source": [
    "<!-- {{< embed chapters/Frontmatter.qmd >}}  -->"
   ],
   "id": "c1093647-9ea5-4d34-8db2-35b176f0aa3b"
  },
  {
   "cell_type": "markdown",
   "metadata": {},
   "source": [
    "## List of Tables\n",
    "\n",
    "Table 1: Table name\n",
    "\n",
    "Table 2: Table name\n",
    "\n",
    "Table 3: Table name\n",
    "\n",
    "## List of Graphics & Figures\n",
    "\n",
    "## List of Abbreviations\n",
    "\n",
    "esp. especially\n",
    "\n",
    "f., ff. following\n",
    "\n",
    "incl. including\n",
    "\n",
    "p., pp. page(s)\n",
    "\n",
    "MAD Mutually Assured Destruction\n",
    "\n",
    "## Glossary\n",
    "\n",
    "term  \n",
    "Definition of term\n",
    "\n",
    "Another term  \n",
    "Description of second term\n",
    "\n",
    "Text"
   ],
   "id": "8587e86c-a5d6-491a-8233-0f4786c310ad"
  },
  {
   "cell_type": "raw",
   "metadata": {
    "raw_mimetype": "text/html"
   },
   "source": [
    "<!-- # Affidavit {.unnumbered} -->"
   ],
   "id": "abbfa112-0ea7-4b67-9861-682347890d58"
  },
  {
   "cell_type": "markdown",
   "metadata": {},
   "source": [
    "# 6. Appendices\n",
    "\n",
    "## 6.1 Appendices\n",
    "\n",
    "## 6.2 Appendix A\n",
    "\n",
    "## 6.3 Appendix B\n",
    "\n",
    "## 6.4 Appendix C\n",
    "\n",
    "## 6.5 Appendix D\n",
    "\n",
    "TestText\n",
    "\n",
    "<!-- ## Affidavit -->\n",
    "\n",
    "# Notebooks"
   ],
   "id": "a9ba51a9-c340-4102-a894-3ec43d87ccad"
  }
 ],
 "nbformat": 4,
 "nbformat_minor": 5,
 "metadata": {}
}
