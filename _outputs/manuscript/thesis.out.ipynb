{
 "cells": [
  {
   "cell_type": "markdown",
   "metadata": {},
   "source": [
    "# Automating the Modelling of Transformative Artificial Intelligence\n",
    "\n",
    "Risks\n",
    "\n",
    "An Epistemic Framework for Leveraging Frontier AI Systems to Upscale Conditional Policy Assessments in Bayesian Networks on a Narrow Path towards Existential Safety\n",
    "\n",
    "Valentin Jakob Meyer [![](data:image/png;base64,iVBORw0KGgoAAAANSUhEUgAAABAAAAAQCAYAAAAf8/9hAAAAGXRFWHRTb2Z0d2FyZQBBZG9iZSBJbWFnZVJlYWR5ccllPAAAA2ZpVFh0WE1MOmNvbS5hZG9iZS54bXAAAAAAADw/eHBhY2tldCBiZWdpbj0i77u/IiBpZD0iVzVNME1wQ2VoaUh6cmVTek5UY3prYzlkIj8+IDx4OnhtcG1ldGEgeG1sbnM6eD0iYWRvYmU6bnM6bWV0YS8iIHg6eG1wdGs9IkFkb2JlIFhNUCBDb3JlIDUuMC1jMDYwIDYxLjEzNDc3NywgMjAxMC8wMi8xMi0xNzozMjowMCAgICAgICAgIj4gPHJkZjpSREYgeG1sbnM6cmRmPSJodHRwOi8vd3d3LnczLm9yZy8xOTk5LzAyLzIyLXJkZi1zeW50YXgtbnMjIj4gPHJkZjpEZXNjcmlwdGlvbiByZGY6YWJvdXQ9IiIgeG1sbnM6eG1wTU09Imh0dHA6Ly9ucy5hZG9iZS5jb20veGFwLzEuMC9tbS8iIHhtbG5zOnN0UmVmPSJodHRwOi8vbnMuYWRvYmUuY29tL3hhcC8xLjAvc1R5cGUvUmVzb3VyY2VSZWYjIiB4bWxuczp4bXA9Imh0dHA6Ly9ucy5hZG9iZS5jb20veGFwLzEuMC8iIHhtcE1NOk9yaWdpbmFsRG9jdW1lbnRJRD0ieG1wLmRpZDo1N0NEMjA4MDI1MjA2ODExOTk0QzkzNTEzRjZEQTg1NyIgeG1wTU06RG9jdW1lbnRJRD0ieG1wLmRpZDozM0NDOEJGNEZGNTcxMUUxODdBOEVCODg2RjdCQ0QwOSIgeG1wTU06SW5zdGFuY2VJRD0ieG1wLmlpZDozM0NDOEJGM0ZGNTcxMUUxODdBOEVCODg2RjdCQ0QwOSIgeG1wOkNyZWF0b3JUb29sPSJBZG9iZSBQaG90b3Nob3AgQ1M1IE1hY2ludG9zaCI+IDx4bXBNTTpEZXJpdmVkRnJvbSBzdFJlZjppbnN0YW5jZUlEPSJ4bXAuaWlkOkZDN0YxMTc0MDcyMDY4MTE5NUZFRDc5MUM2MUUwNEREIiBzdFJlZjpkb2N1bWVudElEPSJ4bXAuZGlkOjU3Q0QyMDgwMjUyMDY4MTE5OTRDOTM1MTNGNkRBODU3Ii8+IDwvcmRmOkRlc2NyaXB0aW9uPiA8L3JkZjpSREY+IDwveDp4bXBtZXRhPiA8P3hwYWNrZXQgZW5kPSJyIj8+84NovQAAAR1JREFUeNpiZEADy85ZJgCpeCB2QJM6AMQLo4yOL0AWZETSqACk1gOxAQN+cAGIA4EGPQBxmJA0nwdpjjQ8xqArmczw5tMHXAaALDgP1QMxAGqzAAPxQACqh4ER6uf5MBlkm0X4EGayMfMw/Pr7Bd2gRBZogMFBrv01hisv5jLsv9nLAPIOMnjy8RDDyYctyAbFM2EJbRQw+aAWw/LzVgx7b+cwCHKqMhjJFCBLOzAR6+lXX84xnHjYyqAo5IUizkRCwIENQQckGSDGY4TVgAPEaraQr2a4/24bSuoExcJCfAEJihXkWDj3ZAKy9EJGaEo8T0QSxkjSwORsCAuDQCD+QILmD1A9kECEZgxDaEZhICIzGcIyEyOl2RkgwAAhkmC+eAm0TAAAAABJRU5ErkJggg==)](https://orcid.org/0009-0006-0889-5269) (University of Bayreuth, MCMP — LMU Munich)  \n",
    "Dr. Timo Speith (University of Bayreuth)  \n",
    "May 26, 2025\n",
    "\n",
    "The coordination crisis in AI governance presents a paradoxical challenge: unprecedented investment in AI safety coexists alongside fundamental coordination failures across technical, policy, and ethical domains. These divisions systematically increase existential risk by creating safety gaps, misallocating resources, and fostering inconsistent approaches to interdependent problems. This thesis introduces AMTAIR (Automating Transformative AI Risk Modeling), a computational approach that addresses this coordination failure by automating the extraction of probabilistic world models from AI safety literature using frontier language models.\n",
    "\n",
    "The AMTAIR system implements an end-to-end pipeline that transforms unstructured text into interactive Bayesian networks through a novel two-stage extraction process: first capturing argument structure in ArgDown format, then enhancing it with probability information in BayesDown. This approach bridges communication gaps between stakeholders by making implicit models explicit, enabling comparison across different worldviews, providing a common language for discussing probabilistic relationships, and supporting policy evaluation across diverse scenarios."
   ],
   "id": "ba3505b0-c0b0-440e-a291-b1c4b0ce7366"
  },
  {
   "cell_type": "raw",
   "metadata": {
    "raw_mimetype": "text/html"
   },
   "source": [
    "<!-- [ ] Figure out Outline to Outline to Draft Workflow -->"
   ],
   "id": "eab73ada-d25e-4f8e-81b5-365970b20827"
  },
  {
   "cell_type": "raw",
   "metadata": {
    "raw_mimetype": "text/html"
   },
   "source": [
    "<!-- [ ] Figure out Thesis \"styling\" (book vs manuscript) -->"
   ],
   "id": "a91f6cf3-baa6-4fc8-ba29-92b14cb521ba"
  },
  {
   "cell_type": "raw",
   "metadata": {
    "raw_mimetype": "text/html"
   },
   "source": [
    "<!-- [ ] Setup reliable \"save as PDF\" -->"
   ],
   "id": "3d37e331-95fb-4544-9cdd-cb877b970f2b"
  },
  {
   "cell_type": "raw",
   "metadata": {
    "raw_mimetype": "text/html"
   },
   "source": [
    "<!-- [ ] Setup \"save as LaTeX\" -->"
   ],
   "id": "23d347a4-2a1d-4d4a-a530-d14168e99574"
  },
  {
   "cell_type": "raw",
   "metadata": {
    "raw_mimetype": "text/html"
   },
   "source": [
    "<!-- [ ] Adapt LaTeX / PDF based on (journal) template -->"
   ],
   "id": "a5617c68-f811-4646-a6bd-079f67817272"
  },
  {
   "cell_type": "raw",
   "metadata": {
    "raw_mimetype": "text/html"
   },
   "source": [
    "<!-- [ ]: Clean up the introduction -->"
   ],
   "id": "f6a7315e-ce4b-4cbd-8930-defb6e8e440f"
  },
  {
   "cell_type": "raw",
   "metadata": {
    "raw_mimetype": "text/html"
   },
   "source": [
    "<!-- [ ]: Test Quarto-Code-Links: https://quarto.org/docs/manuscripts/components.html#code-links -->"
   ],
   "id": "c25d9645-0a72-4511-a276-d59d71371f87"
  },
  {
   "cell_type": "code",
   "execution_count": null,
   "metadata": {},
   "outputs": [],
   "source": [
    "# [ ]: Configure the Quarto Manuscript options: https://quarto.org/docs/manuscripts/components.html#including-notebooks"
   ],
   "id": "7174e094-0fee-45ef-8358-135e05f84964"
  },
  {
   "cell_type": "raw",
   "metadata": {
    "raw_mimetype": "text/html"
   },
   "source": [
    "<!-- \n",
    "# Grading\n",
    "\n",
    "## Research (10%)\n",
    "• demonstrates knowledge of the subject area as drawn from appropriate sources\n",
    "• incorporates insights from in-class discussions\n",
    "• draws on appropriate additional materials beyond those covered in class (primary as well as secondary sources)\n",
    "• covers relevant material at appropriate level of detail\n",
    "\n",
    "## Structure (10%)\n",
    "• outlines project clearly in the introduction\n",
    "• discussion follows a logical order\n",
    "• order of sections corresponds to outline\n",
    "• uses appropriate topic and transition sentences\n",
    "• employs proper signposting and cross-referencing throughout paper\n",
    "• sections are appropriately numbered and headlined\n",
    "\n",
    "##Language and Style (10%)\n",
    "• employs appropriate tone and academic language\n",
    "• uses effective and sophisticated sentence variety, diction, and vocabulary\n",
    "• employs correct English spelling and grammar\n",
    "• is clearly written and uses appropriate sentence complexity\n",
    "• communicates main points effectively / is easy to follow\n",
    "• formats citations and references correctly and consistently (e.g. (AUTHOR, YEAR) citation style)\n",
    "• names all primary and secondary sources\n",
    "• includes a complete list of references with full bibliographic details\n",
    "\n",
    " -->"
   ],
   "id": "1b085d55-e56c-4382-9b39-15f22b68e688"
  },
  {
   "cell_type": "markdown",
   "metadata": {},
   "source": [
    "# 1. \n",
    "\n",
    "# 2. Frontmatter\n",
    "\n",
    "# 3. Prefatory Apparatus: Illustrations and Terminology — Quick References\n",
    "\n",
    "## 3.1 List of Tables\n",
    "\n",
    "Table 1: Table name\n",
    "\n",
    "Table 2: Table name\n",
    "\n",
    "Table 3: Table name\n",
    "\n",
    "## 3.2 List of Graphics & Figures\n",
    "\n",
    "## 3.3 List of Abbreviations\n",
    "\n",
    "esp. especially\n",
    "\n",
    "f., ff. following\n",
    "\n",
    "incl. including\n",
    "\n",
    "p., pp. page(s)\n",
    "\n",
    "MAD Mutually Assured Destruction\n",
    "\n",
    "## 3.4 Glossary\n",
    "\n",
    "# 4. \n",
    "\n",
    "# 5. Introduction\n",
    "\n",
    "10% of Grade:\n",
    "\n",
    "• introduces and motivates the core question or problem • provides context for discussion (places issue within a larger debate or sphere of relevance) • states precise thesis or position the author will argue for • provides roadmap indicating structure and key content points of the essay\n",
    "\n",
    "~ 14% of text ~ 4200 words\n",
    "\n",
    "• introduces and motivates the core question or problem\n",
    "\n",
    "## 5.1 Motivation: Problem Statement\n",
    "\n",
    "## 5.2 Motivation: Research Question\n",
    "\n",
    "• provides context for discussion (places issue within a larger debate or sphere of relevance)\n",
    "\n",
    "## 5.3 Scope: Aim & Context of the Research\n",
    "\n",
    "## 5.4 Significance of the Research: Theory of Change\n",
    "\n",
    "• states precise thesis or position the author will argue for\n",
    "\n",
    "## 5.5 Thesis Statement & Position: (Aim of the Paper)\n",
    "\n",
    "• provides roadmap indicating structure and key content points of the essay\n",
    "\n",
    "## 5.6 Overview: Structure & Approach of the Paper (Roadmap — Theory of Change)\n",
    "\n",
    "## 5.7 Table of Contents\n",
    "\n",
    "# 6. \n",
    "\n",
    "# 7. Context\n",
    "\n",
    "20% of Grade:\n",
    "\n",
    "• demonstrates understanding of all relevant core concepts • explains why the question/thesis/problem is relevant in student’s own words (supported by quotations) • situates it within the debate/course material • reconstructs selected arguments and identifies relevant assumptions • describes additional relevant material that has been consulted and integrates it with the course material as well as the research question/thesis/problem\n",
    "\n",
    "~ 29% of text ~ 8700 words\n",
    "\n",
    "1.  successively (chunk my chunk) introduce concepts/ideas — and 2. ground each with existing literature\n",
    "\n",
    "<!-- {{< embed Background.qmd >}} -->\n",
    "\n",
    "<!-- {{< embed Methodology.qmd >}} -->\n",
    "\n",
    "# 8. \n",
    "\n",
    "# 9. AMTAIR\n",
    "\n",
    "20% of Grade:\n",
    "\n",
    "• provides critical or constructive evaluation of positions introduced • develops strong (plausible) argument in support of author’s own position/thesis • argument draws on relevant course material • claim/argument demonstrates understanding of the course materials incl. key arguments and core concepts within the debate • claim/argument is original or insightful, possibly even presents an original contribution to the debate\n",
    "\n",
    "~ 29% of text ~ 8700 words\n",
    "\n",
    "<!-- {{< embed Implementation.qmd >}} -->\n",
    "\n",
    "<!-- {{< embed Results.qmd >}} -->\n",
    "\n",
    "# 10. \n",
    "\n",
    "# 11. Discussion\n",
    "\n",
    "10% of Grade:\n",
    "\n",
    "• discusses a specific objection to student’s own argument • provides a convincing reply that bolsters or refines the main argument • relates to or extends beyond materials/arguments covered in class\n",
    "\n",
    "~ 14% of text ~ 4200 words\n",
    "\n",
    "# 12. \n",
    "\n",
    "# 13. Conclusion\n",
    "\n",
    "10% of Grade:\n",
    "\n",
    "• summarizes thesis and line of argument • outlines possible implications • notes outstanding issues / limitations of discussion • points to avenues for further research • overall conclusion is in line with introduction\n",
    "\n",
    "~ 14% of text ~ 4200 words\n",
    "\n",
    "## Bibliography/References\n",
    "\n",
    "# 14. \n",
    "\n",
    "# 15. Appendices\n",
    "\n",
    "# 16. Appendix A\n",
    "\n",
    "# 17. Appendix B\n",
    "\n",
    "# 18. Appendix C\n",
    "\n",
    "# 19. Appendix D\n",
    "\n",
    "TestText\n",
    "\n",
    "# 20. Affidavit\n",
    "\n",
    "# 21. Notebooks"
   ],
   "id": "047a4f02-9894-4250-b0ac-4b4125abde0c"
  }
 ],
 "nbformat": 4,
 "nbformat_minor": 5,
 "metadata": {}
}
