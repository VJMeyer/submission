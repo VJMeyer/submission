{
 "cells": [
  {
   "cell_type": "markdown",
   "metadata": {},
   "source": [
    "# Automating the Modelling of Transformative Artificial Intelligence\n",
    "\n",
    "Risks\n",
    "\n",
    "An Epistemic Framework for Leveraging Frontier AI Systems to Upscale Conditional Policy Assessments in Bayesian Networks on a Narrow Path towards Existential Safety\n",
    "\n",
    "Valentin Jakob Meyer [![](data:image/png;base64,iVBORw0KGgoAAAANSUhEUgAAABAAAAAQCAYAAAAf8/9hAAAAGXRFWHRTb2Z0d2FyZQBBZG9iZSBJbWFnZVJlYWR5ccllPAAAA2ZpVFh0WE1MOmNvbS5hZG9iZS54bXAAAAAAADw/eHBhY2tldCBiZWdpbj0i77u/IiBpZD0iVzVNME1wQ2VoaUh6cmVTek5UY3prYzlkIj8+IDx4OnhtcG1ldGEgeG1sbnM6eD0iYWRvYmU6bnM6bWV0YS8iIHg6eG1wdGs9IkFkb2JlIFhNUCBDb3JlIDUuMC1jMDYwIDYxLjEzNDc3NywgMjAxMC8wMi8xMi0xNzozMjowMCAgICAgICAgIj4gPHJkZjpSREYgeG1sbnM6cmRmPSJodHRwOi8vd3d3LnczLm9yZy8xOTk5LzAyLzIyLXJkZi1zeW50YXgtbnMjIj4gPHJkZjpEZXNjcmlwdGlvbiByZGY6YWJvdXQ9IiIgeG1sbnM6eG1wTU09Imh0dHA6Ly9ucy5hZG9iZS5jb20veGFwLzEuMC9tbS8iIHhtbG5zOnN0UmVmPSJodHRwOi8vbnMuYWRvYmUuY29tL3hhcC8xLjAvc1R5cGUvUmVzb3VyY2VSZWYjIiB4bWxuczp4bXA9Imh0dHA6Ly9ucy5hZG9iZS5jb20veGFwLzEuMC8iIHhtcE1NOk9yaWdpbmFsRG9jdW1lbnRJRD0ieG1wLmRpZDo1N0NEMjA4MDI1MjA2ODExOTk0QzkzNTEzRjZEQTg1NyIgeG1wTU06RG9jdW1lbnRJRD0ieG1wLmRpZDozM0NDOEJGNEZGNTcxMUUxODdBOEVCODg2RjdCQ0QwOSIgeG1wTU06SW5zdGFuY2VJRD0ieG1wLmlpZDozM0NDOEJGM0ZGNTcxMUUxODdBOEVCODg2RjdCQ0QwOSIgeG1wOkNyZWF0b3JUb29sPSJBZG9iZSBQaG90b3Nob3AgQ1M1IE1hY2ludG9zaCI+IDx4bXBNTTpEZXJpdmVkRnJvbSBzdFJlZjppbnN0YW5jZUlEPSJ4bXAuaWlkOkZDN0YxMTc0MDcyMDY4MTE5NUZFRDc5MUM2MUUwNEREIiBzdFJlZjpkb2N1bWVudElEPSJ4bXAuZGlkOjU3Q0QyMDgwMjUyMDY4MTE5OTRDOTM1MTNGNkRBODU3Ii8+IDwvcmRmOkRlc2NyaXB0aW9uPiA8L3JkZjpSREY+IDwveDp4bXBtZXRhPiA8P3hwYWNrZXQgZW5kPSJyIj8+84NovQAAAR1JREFUeNpiZEADy85ZJgCpeCB2QJM6AMQLo4yOL0AWZETSqACk1gOxAQN+cAGIA4EGPQBxmJA0nwdpjjQ8xqArmczw5tMHXAaALDgP1QMxAGqzAAPxQACqh4ER6uf5MBlkm0X4EGayMfMw/Pr7Bd2gRBZogMFBrv01hisv5jLsv9nLAPIOMnjy8RDDyYctyAbFM2EJbRQw+aAWw/LzVgx7b+cwCHKqMhjJFCBLOzAR6+lXX84xnHjYyqAo5IUizkRCwIENQQckGSDGY4TVgAPEaraQr2a4/24bSuoExcJCfAEJihXkWDj3ZAKy9EJGaEo8T0QSxkjSwORsCAuDQCD+QILmD1A9kECEZgxDaEZhICIzGcIyEyOl2RkgwAAhkmC+eAm0TAAAAABJRU5ErkJggg==)](https://orcid.org/0009-0006-0889-5269) (University of Bayreuth, MCMP — LMU Munich)  \n",
    "Dr. Timo Speith (University of Bayreuth)  \n",
    "May 26, 2025\n",
    "\n",
    "This thesis addresses coordination problems in AI safety by creating tools that automatically extract and formalize the assumptions and models underlying different approaches to AI governance. By transforming complex arguments into interactive visualizations showing relationships and probabilities, AMTAIR helps bridge communication gaps between technical researchers, policy specialists, and other stakeholders working to address risks from advanced AI.\n",
    "\n",
    "# Abstract\n",
    "\n",
    "The coordination crisis in AI governance presents a paradoxical challenge: unprecedented investment in AI safety coexists alongside fundamental coordination failures across technical, policy, and ethical domains. These divisions systematically increase existential risk by creating safety gaps, misallocating resources, and fostering inconsistent approaches to interdependent problems. This thesis introduces AMTAIR (Automating Transformative AI Risk Modeling), a computational approach that addresses this coordination failure by automating the extraction of probabilistic world models from AI safety literature using frontier language models.\n",
    "\n",
    "The AMTAIR system implements an end-to-end pipeline that transforms unstructured text into interactive Bayesian networks through a novel two-stage extraction process: first capturing argument structure in ArgDown format, then enhancing it with probability information in BayesDown. This approach bridges communication gaps between stakeholders by making implicit models explicit, enabling comparison across different worldviews, providing a common language for discussing probabilistic relationships, and supporting policy evaluation across diverse scenarios."
   ],
   "id": "5157d71a-4826-4d58-9ed3-47818f7875ed"
  },
  {
   "cell_type": "raw",
   "metadata": {
    "raw_mimetype": "text/html"
   },
   "source": [
    "<!-- [ ] Figure out Outline to Outline to Draft Workflow -->"
   ],
   "id": "db6e12b2-32f5-4af1-a091-b52145dc6288"
  },
  {
   "cell_type": "raw",
   "metadata": {
    "raw_mimetype": "text/html"
   },
   "source": [
    "<!-- [ ] Figure out Thesis \"styling\" (book vs manuscript) -->"
   ],
   "id": "873369c4-2056-4cb8-86e1-c28c1f42cd27"
  },
  {
   "cell_type": "raw",
   "metadata": {
    "raw_mimetype": "text/html"
   },
   "source": [
    "<!-- [ ] Setup reliable \"save as PDF\" -->"
   ],
   "id": "aeec5e5c-e6f8-423e-99fe-9e242706b2aa"
  },
  {
   "cell_type": "raw",
   "metadata": {
    "raw_mimetype": "text/html"
   },
   "source": [
    "<!-- [ ] Setup \"save as LaTeX\" -->"
   ],
   "id": "afb014b6-98fc-4a00-9d47-2ba071110dfa"
  },
  {
   "cell_type": "raw",
   "metadata": {
    "raw_mimetype": "text/html"
   },
   "source": [
    "<!-- [ ] Adapt LaTeX / PDF based on (journal) template -->"
   ],
   "id": "d5813b24-bba8-4f1f-b859-9f79a48ecf9e"
  },
  {
   "cell_type": "raw",
   "metadata": {
    "raw_mimetype": "text/html"
   },
   "source": [
    "<!-- [ ]: Clean up the introduction -->"
   ],
   "id": "298924d4-f9d1-4946-bdce-be24c4bfa440"
  },
  {
   "cell_type": "raw",
   "metadata": {
    "raw_mimetype": "text/html"
   },
   "source": [
    "<!-- [ ]: Test Quarto-Code-Links: https://quarto.org/docs/manuscripts/components.html#code-links -->"
   ],
   "id": "e090e7ad-c9a7-4695-8d01-a4e145f2086d"
  },
  {
   "cell_type": "code",
   "execution_count": null,
   "metadata": {},
   "outputs": [],
   "source": [
    "# [ ]: Configure the Quarto Manuscript options: https://quarto.org/docs/manuscripts/components.html#including-notebooks"
   ],
   "id": "749a161a-a1bd-463b-a67e-cdd19f7424fa"
  },
  {
   "cell_type": "raw",
   "metadata": {
    "raw_mimetype": "text/html"
   },
   "source": [
    "<!-- \n",
    "# Grading\n",
    "\n",
    "## Research (10%)\n",
    "• demonstrates knowledge of the subject area as drawn from appropriate sources\n",
    "• incorporates insights from in-class discussions\n",
    "• draws on appropriate additional materials beyond those covered in class (primary as well as secondary sources)\n",
    "• covers relevant material at appropriate level of detail\n",
    "\n",
    "## Structure (10%)\n",
    "• outlines project clearly in the introduction\n",
    "• discussion follows a logical order\n",
    "• order of sections corresponds to outline\n",
    "• uses appropriate topic and transition sentences\n",
    "• employs proper signposting and cross-referencing throughout paper\n",
    "• sections are appropriately numbered and headlined\n",
    "\n",
    "##Language and Style (10%)\n",
    "• employs appropriate tone and academic language\n",
    "• uses effective and sophisticated sentence variety, diction, and vocabulary\n",
    "• employs correct English spelling and grammar\n",
    "• is clearly written and uses appropriate sentence complexity\n",
    "• communicates main points effectively / is easy to follow\n",
    "• formats citations and references correctly and consistently (e.g. (AUTHOR, YEAR) citation style)\n",
    "• names all primary and secondary sources\n",
    "• includes a complete list of references with full bibliographic details\n",
    "\n",
    " -->"
   ],
   "id": "235b10fa-08af-4077-9c73-1b2fa9133d3f"
  },
  {
   "cell_type": "raw",
   "metadata": {
    "raw_mimetype": "text/html"
   },
   "source": [
    "<!-- ::: callout-tip -->"
   ],
   "id": "7433b1ca-a5bd-4663-b7fa-395076db24fd"
  },
  {
   "cell_type": "markdown",
   "metadata": {},
   "source": [
    "## 0.1 Callout Test — Language & Style\n",
    "\n",
    "• employs appropriate tone and academic language • uses effective and sophisticated sentence variety, diction, and vocabulary • employs correct English spelling and grammar • is clearly written and uses appropriate sentence complexity • communicates main points effectively / is easy to follow • formats citations and references correctly and consistently (e.g. (AUTHOR, YEAR) citation style) • names all primary and secondary sources • includes a complete list of references with full bibliographic details <!-- ::: -->\n",
    "\n",
    "More text\n",
    "\n",
    "# 1. Introduction\n",
    "\n",
    "## 1.1 Introduction\n",
    "\n",
    "10% of Grade:\n",
    "\n",
    "• introduces and motivates the core question or problem • provides context for discussion (places issue within a larger debate or sphere of relevance) • states precise thesis or position the author will argue for • provides roadmap indicating structure and key content points of the essay\n",
    "\n",
    "~ 14% of text ~ 4200 words\n",
    "\n",
    "• introduces and motivates the core question or problem\n",
    "\n",
    "## 1.2 Motivation: Problem Statement\n",
    "\n",
    "## 1.3 Motivation: Research Question\n",
    "\n",
    "• provides context for discussion (places issue within a larger debate or sphere of relevance)\n",
    "\n",
    "## 1.4 Scope: Aim & Context of the Research\n",
    "\n",
    "## 1.5 Significance of the Research: Theory of Change\n",
    "\n",
    "• states precise thesis or position the author will argue for\n",
    "\n",
    "## 1.6 Thesis Statement & Position: (Aim of the Paper)\n",
    "\n",
    "• provides roadmap indicating structure and key content points of the essay\n",
    "\n",
    "## 1.7 Overview: Structure & Approach of the Paper (Roadmap — Theory of Change)\n",
    "\n",
    "## 1.8 Table of Contents\n",
    "\n",
    "# 2. Context\n",
    "\n",
    "## 2.1 Context\n",
    "\n",
    "20% of Grade:\n",
    "\n",
    "• demonstrates understanding of all relevant core concepts • explains why the question/thesis/problem is relevant in student’s own words (supported by quotations) • situates it within the debate/course material • reconstructs selected arguments and identifies relevant assumptions • describes additional relevant material that has been consulted and integrates it with the course material as well as the research question/thesis/problem\n",
    "\n",
    "~ 29% of text ~ 8700 words\n",
    "\n",
    "1.  successively (chunk my chunk) introduce concepts/ideas — and 2. ground each with existing literature\n",
    "\n",
    "<!-- {{< embed Background.qmd >}} -->\n",
    "\n",
    "<!-- {{< embed Methodology.qmd >}} -->\n",
    "\n",
    "# 3. AMTAIR\n",
    "\n",
    "## 3.1 AMTAIR\n",
    "\n",
    "20% of Grade:\n",
    "\n",
    "• provides critical or constructive evaluation of positions introduced • develops strong (plausible) argument in support of author’s own position/thesis • argument draws on relevant course material • claim/argument demonstrates understanding of the course materials incl. key arguments and core concepts within the debate • claim/argument is original or insightful, possibly even presents an original contribution to the debate\n",
    "\n",
    "~ 29% of text ~ 8700 words\n",
    "\n",
    "<!-- {{< embed Implementation.qmd >}} -->\n",
    "\n",
    "<!-- {{< embed Results.qmd >}} -->\n",
    "\n",
    "# 4. Discussion\n",
    "\n",
    "## 4.1 Discussion\n",
    "\n",
    "10% of Grade:\n",
    "\n",
    "• discusses a specific objection to student’s own argument • provides a convincing reply that bolsters or refines the main argument • relates to or extends beyond materials/arguments covered in class\n",
    "\n",
    "~ 14% of text ~ 4200 words\n",
    "\n",
    "# 5. Conclusion\n",
    "\n",
    "## 5.1 Conclusion\n",
    "\n",
    "10% of Grade:\n",
    "\n",
    "• summarizes thesis and line of argument • outlines possible implications • notes outstanding issues / limitations of discussion • points to avenues for further research • overall conclusion is in line with introduction\n",
    "\n",
    "~ 14% of text ~ 4200 words\n",
    "\n",
    "## Bibliography/References\n",
    "\n",
    "# Prefatory Apparatus: Illustrations and Terminology — Quick References\n",
    "\n",
    "## List of Tables\n",
    "\n",
    "Table 1: Table name\n",
    "\n",
    "Table 2: Table name\n",
    "\n",
    "Table 3: Table name\n",
    "\n",
    "## List of Graphics & Figures\n",
    "\n",
    "## List of Abbreviations\n",
    "\n",
    "esp. especially\n",
    "\n",
    "f., ff. following\n",
    "\n",
    "incl. including\n",
    "\n",
    "p., pp. page(s)\n",
    "\n",
    "MAD Mutually Assured Destruction\n",
    "\n",
    "## Glossary"
   ],
   "id": "7821420e-5100-418c-9847-3be741ae8133"
  },
  {
   "cell_type": "raw",
   "metadata": {
    "raw_mimetype": "text/html"
   },
   "source": [
    "<!-- {{< embed chapters/Frontmatter.qmd >}}  -->"
   ],
   "id": "a66f1d85-edb7-45b6-81c7-9d364e723ca1"
  },
  {
   "cell_type": "markdown",
   "metadata": {},
   "source": [
    "term  \n",
    "Definition of term\n",
    "\n",
    "Another term  \n",
    "Description of second term\n",
    "\n",
    "Text\n",
    "\n",
    "% Removes page numbering for current page"
   ],
   "id": "245a112e-a922-43bb-9ffc-a4183cb57ca8"
  },
  {
   "cell_type": "raw",
   "metadata": {
    "raw_mimetype": "tex"
   },
   "source": [
    "\\vspace*{0.5cm}"
   ],
   "id": "4af017ae-6373-4424-9e8b-e75a55d558bd"
  },
  {
   "cell_type": "markdown",
   "metadata": {},
   "source": [
    "{} \\\\ {I hereby attest that I have written my thesis} \\\\ \\\\ independently and without the use of other than the stated aids. All passages that have been taken verbatim or in spirit from published or unpublished writings are marked as such. \\\\ The thesis has not been submitted in the same or a similar form to any other examining body. \\\\ Bayreuth, \\\\"
   ],
   "id": "ccd63d2e-63d3-4e87-be19-8d36c4afe0cd"
  },
  {
   "cell_type": "raw",
   "metadata": {
    "raw_mimetype": "tex"
   },
   "source": [
    "\\documentclass[12pt, a4paper]{article}\n",
    "\n",
    "\\begin{document}\n",
    "\n",
    "\\newpage\n",
    "\n",
    "        \\flushright \\includegraphics[width = 40mm]{backgroundsealwatermark.png}\\\\[2cm]\n",
    "                \\centering \n",
    "\\part*{Affidavit}\n",
    "\n",
    "        \\vspace{2cm}\n",
    "    \\section*{Declaration of Academic Honesty}\n",
    "        \n",
    "        Hereby, I declare that I have composed the presented paper independently on my own and without any other resources than the ones indicated. All thoughts taken directly or indirectly from external sources are properly denoted as such.\n",
    "         \\vspace{\\baselineskip}\n",
    "        \\\\  This paper has neither been previously submitted to another authority nor has it been published yet.\n",
    "        \\vspace{6cm}\n",
    "        \n",
    "    \\flushright\n",
    "    \\begin{minipage}{0.5\\textwidth}\n",
    "        \\begin{flushleft} \\large\n",
    "        \\textsc{Munich}                     %   Place\n",
    "        on the \\\\ 19th of September 2022                %   Date\n",
    "        \\vspace{2cm}\\\\\n",
    "        {\\rule[-3pt]{\\linewidth}{.4pt}\\par\\smallskip  \n",
    "        \\textsc{Valentin Meyer} \\\\         %   Your name\n",
    "        }\n",
    "        \\end{flushleft}\n",
    "        \\end{minipage}\n",
    "\n",
    "    \\begin{comment}\n",
    "        Tips for sources:\n",
    "        Good Journals:\n",
    "            Top5 (AmericanEconomicReview, Journal of Political Economy, Econometrica, Quarterly Journal of Economics, Review of Economics Studies);\n",
    "            NBER, CESifo etc Working Paper;\n",
    "            Good Field Journals;\n",
    "            Handelsblatt Ranking etc.\n",
    "            Always ask:\n",
    "                Do they conduct proper Peer-review?\n",
    "                Who are the authors?\n",
    "           Careful with Thinktanks, research whether they are biased\n",
    "        Cite your supervisour\n",
    "            Always a nice move\n",
    "            Make extra sure you understand their paper\n",
    "            Unfortunate spot for a mistake\n",
    "        The References (Bibliography) should contain only that sources that you are referringto in the text, listed in alphabetical orler:oMonographs: surname, given name(s) resp. initials, (editor), year, title,subtitle, edition, volume, place of publication.\n",
    "    Journal articles: surname, given name(s), year, title of the article, title of thejournal, volume, page numbers.\n",
    "    Articles in miscellanies: surname, given name(s), year, title of the article, in:surname, name(s), (editor), year, title, ..., page numbers.\n",
    "    If in doubt, have a look at the bibliography in papers that are published in the American Economic Review.\n",
    "    •Sources of all figures and tables which you have adopted from other texts have to be cited precisely (i.e. including the exact page)\n",
    "    \n",
    "\\end{comment}\n",
    "  \n",
    "%    \\tableofcontents\n",
    "\\end{document}\n",
    "\n",
    "\n",
    ":::{.quarto-embed-nb-cell notebook=\"/Users/vjm/Library/Mobile Documents/iCloud~md~obsidian/Documents/Vaulty/2_DoingGood/Studies/P&E/Specializations/Test_Sync_MAThesis/submission/chapters/Appendices.qmd\" notebook-title=\"Appendices\" notebook-cellId=\"23997cc1-3a93-4cef-89c1-6b6ba523207a\"}\n",
    "\n",
    "# Appendices\n",
    "\n",
    "## Appendices\n",
    "\n",
    "## Appendix A\n",
    "\n",
    "## Appendix B\n",
    "\n",
    "## Appendix C\n",
    "\n",
    "## Appendix D\n",
    "\n",
    "TestText\n",
    "\n",
    "## Affidavit\n",
    "\n",
    "\n",
    "\n",
    ":::\n",
    "\n",
    "# Notebooks {.unnumbered}"
   ],
   "id": "37298314-12c7-4f44-acfc-d9d6ea9467dd"
  }
 ],
 "nbformat": 4,
 "nbformat_minor": 5,
 "metadata": {}
}
