{
 "cells": [
  {
   "cell_type": "markdown",
   "metadata": {},
   "source": [
    "# Automating the Modelling of Transformative Artificial Intelligence\n",
    "\n",
    "Risks\n",
    "\n",
    "An Epistemic Framework for Leveraging Frontier AI Systems to Upscale Conditional Policy Assessments in Bayesian Networks on a Narrow Path towards Existential Safety\n",
    "\n",
    "Valentin Jakob Meyer [![](data:image/png;base64,iVBORw0KGgoAAAANSUhEUgAAABAAAAAQCAYAAAAf8/9hAAAAGXRFWHRTb2Z0d2FyZQBBZG9iZSBJbWFnZVJlYWR5ccllPAAAA2ZpVFh0WE1MOmNvbS5hZG9iZS54bXAAAAAAADw/eHBhY2tldCBiZWdpbj0i77u/IiBpZD0iVzVNME1wQ2VoaUh6cmVTek5UY3prYzlkIj8+IDx4OnhtcG1ldGEgeG1sbnM6eD0iYWRvYmU6bnM6bWV0YS8iIHg6eG1wdGs9IkFkb2JlIFhNUCBDb3JlIDUuMC1jMDYwIDYxLjEzNDc3NywgMjAxMC8wMi8xMi0xNzozMjowMCAgICAgICAgIj4gPHJkZjpSREYgeG1sbnM6cmRmPSJodHRwOi8vd3d3LnczLm9yZy8xOTk5LzAyLzIyLXJkZi1zeW50YXgtbnMjIj4gPHJkZjpEZXNjcmlwdGlvbiByZGY6YWJvdXQ9IiIgeG1sbnM6eG1wTU09Imh0dHA6Ly9ucy5hZG9iZS5jb20veGFwLzEuMC9tbS8iIHhtbG5zOnN0UmVmPSJodHRwOi8vbnMuYWRvYmUuY29tL3hhcC8xLjAvc1R5cGUvUmVzb3VyY2VSZWYjIiB4bWxuczp4bXA9Imh0dHA6Ly9ucy5hZG9iZS5jb20veGFwLzEuMC8iIHhtcE1NOk9yaWdpbmFsRG9jdW1lbnRJRD0ieG1wLmRpZDo1N0NEMjA4MDI1MjA2ODExOTk0QzkzNTEzRjZEQTg1NyIgeG1wTU06RG9jdW1lbnRJRD0ieG1wLmRpZDozM0NDOEJGNEZGNTcxMUUxODdBOEVCODg2RjdCQ0QwOSIgeG1wTU06SW5zdGFuY2VJRD0ieG1wLmlpZDozM0NDOEJGM0ZGNTcxMUUxODdBOEVCODg2RjdCQ0QwOSIgeG1wOkNyZWF0b3JUb29sPSJBZG9iZSBQaG90b3Nob3AgQ1M1IE1hY2ludG9zaCI+IDx4bXBNTTpEZXJpdmVkRnJvbSBzdFJlZjppbnN0YW5jZUlEPSJ4bXAuaWlkOkZDN0YxMTc0MDcyMDY4MTE5NUZFRDc5MUM2MUUwNEREIiBzdFJlZjpkb2N1bWVudElEPSJ4bXAuZGlkOjU3Q0QyMDgwMjUyMDY4MTE5OTRDOTM1MTNGNkRBODU3Ii8+IDwvcmRmOkRlc2NyaXB0aW9uPiA8L3JkZjpSREY+IDwveDp4bXBtZXRhPiA8P3hwYWNrZXQgZW5kPSJyIj8+84NovQAAAR1JREFUeNpiZEADy85ZJgCpeCB2QJM6AMQLo4yOL0AWZETSqACk1gOxAQN+cAGIA4EGPQBxmJA0nwdpjjQ8xqArmczw5tMHXAaALDgP1QMxAGqzAAPxQACqh4ER6uf5MBlkm0X4EGayMfMw/Pr7Bd2gRBZogMFBrv01hisv5jLsv9nLAPIOMnjy8RDDyYctyAbFM2EJbRQw+aAWw/LzVgx7b+cwCHKqMhjJFCBLOzAR6+lXX84xnHjYyqAo5IUizkRCwIENQQckGSDGY4TVgAPEaraQr2a4/24bSuoExcJCfAEJihXkWDj3ZAKy9EJGaEo8T0QSxkjSwORsCAuDQCD+QILmD1A9kECEZgxDaEZhICIzGcIyEyOl2RkgwAAhkmC+eAm0TAAAAABJRU5ErkJggg==)](https://orcid.org/0009-0006-0889-5269) (University of Bayreuth, MCMP — LMU Munich)  \n",
    "Dr. Timo Speith (University of Bayreuth)  \n",
    "May 26, 2025\n",
    "\n",
    "This thesis addresses coordination problems in AI safety by creating tools that automatically extract and formalize the assumptions and models underlying different approaches to AI governance. By transforming complex arguments into interactive visualizations showing relationships and probabilities, AMTAIR helps bridge communication gaps between technical researchers, policy specialists, and other stakeholders working to address risks from advanced AI.\n",
    "\n",
    "# Abstract\n",
    "\n",
    "The coordination crisis in AI governance presents a paradoxical challenge: unprecedented investment in AI safety coexists alongside fundamental coordination failures across technical, policy, and ethical domains. These divisions systematically increase existential risk by creating safety gaps, misallocating resources, and fostering inconsistent approaches to interdependent problems. This thesis introduces AMTAIR (Automating Transformative AI Risk Modeling), a computational approach that addresses this coordination failure by automating the extraction of probabilistic world models from AI safety literature using frontier language models.\n",
    "\n",
    "The AMTAIR system implements an end-to-end pipeline that transforms unstructured text into interactive Bayesian networks through a novel two-stage extraction process: first capturing argument structure in ArgDown format, then enhancing it with probability information in BayesDown. This approach bridges communication gaps between stakeholders by making implicit models explicit, enabling comparison across different worldviews, providing a common language for discussing probabilistic relationships, and supporting policy evaluation across diverse scenarios."
   ],
   "id": "d426c206-8c84-41af-8e6d-1fe9a8d2e7d4"
  },
  {
   "cell_type": "raw",
   "metadata": {
    "raw_mimetype": "text/html"
   },
   "source": [
    "<!-- [ ] Figure out Outline to Outline to Draft Workflow -->"
   ],
   "id": "e68df05e-d5d7-42b6-9de8-e15a6cb68448"
  },
  {
   "cell_type": "raw",
   "metadata": {
    "raw_mimetype": "text/html"
   },
   "source": [
    "<!-- [ ]: Clean up the introduction -->"
   ],
   "id": "c0077e54-e50b-45de-80a8-e620d6d83288"
  },
  {
   "cell_type": "raw",
   "metadata": {
    "raw_mimetype": "text/html"
   },
   "source": [
    "<!-- [ ]: Test Quarto-Code-Links: https://quarto.org/docs/manuscripts/components.html#code-links -->"
   ],
   "id": "ffa4bca9-2540-478f-9fc7-07b4794c98a6"
  },
  {
   "cell_type": "code",
   "execution_count": null,
   "metadata": {},
   "outputs": [],
   "source": [
    "# [ ]: Configure the Quarto Manuscript options: https://quarto.org/docs/manuscripts/components.html#including-notebooks"
   ],
   "id": "d860f483-7c82-404f-a75f-9db2d8861886"
  },
  {
   "cell_type": "markdown",
   "metadata": {},
   "source": [
    "## 0.1 Grading\n",
    "\n",
    "### 0.1.1 Research (10%)\n",
    "\n",
    "-   demonstrates knowledge of the subject area as drawn from appropriate sources\n",
    "-   incorporates insights from in-class discussions\n",
    "-   draws on appropriate additional materials beyond those covered in class (primary as well as secondary sources)\n",
    "-   covers relevant material at appropriate level of detail\n",
    "\n",
    "## 0.2 Structure (10%)\n",
    "\n",
    "-   outlines project clearly in the introduction\n",
    "\n",
    "-   discussion follows a logical order\n",
    "\n",
    "-   order of sections corresponds to outline\n",
    "\n",
    "-   uses appropriate topic and transition sentences\n",
    "\n",
    "-   employs proper signposting and cross-referencing throughout paper\n",
    "\n",
    "-   sections are appropriately numbered and headlined"
   ],
   "id": "304bf526-9230-4bf2-9e38-9bb3a07c484d"
  },
  {
   "cell_type": "raw",
   "metadata": {
    "raw_mimetype": "text/html"
   },
   "source": [
    "<!-- ::: callout-tip -->"
   ],
   "id": "7ce4e63f-b10d-467b-bf9f-4aeab8ef037e"
  },
  {
   "cell_type": "markdown",
   "metadata": {},
   "source": [
    "## 0.3 Callout Test — Language & Style (10%)\n",
    "\n",
    "-   employs appropriate tone and academic language\n",
    "\n",
    "-   uses effective and sophisticated sentence variety, diction, and vocabulary\n",
    "\n",
    "-   employs correct English spelling and grammar\n",
    "\n",
    "-   is clearly written and uses appropriate sentence complexity\n",
    "\n",
    "-   communicates main points effectively / is easy to follow\n",
    "\n",
    "-   formats citations and references correctly and consistently (e.g. (AUTHOR, YEAR) citation style)\n",
    "\n",
    "-   names all primary and secondary sources\n",
    "\n",
    "-   includes a complete list of references with full bibliographic details"
   ],
   "id": "958ff5e1-4997-4722-a652-acefac647e2c"
  },
  {
   "cell_type": "raw",
   "metadata": {
    "raw_mimetype": "text/html"
   },
   "source": [
    "<!-- ::: -->"
   ],
   "id": "9f3112b8-7d69-4052-a48e-4e782c2c80a2"
  },
  {
   "cell_type": "markdown",
   "metadata": {},
   "source": [
    "More text\n",
    "\n",
    "# 1. Introduction\n",
    "\n",
    "## 1.1 Introduction\n",
    "\n",
    "10% of Grade:\n",
    "\n",
    "-   introduces and motivates the core question or problem\n",
    "-   provides context for discussion (places issue within a larger debate or sphere of relevance)\n",
    "-   states precise thesis or position the author will argue for\n",
    "-   provides roadmap indicating structure and key content points of the essay\n",
    "\n",
    "~ 14% of text ~ 4200 words\n",
    "\n",
    "-   introduces and motivates the core question or problem\n",
    "\n",
    "## 1.2 Motivation: Problem Statement\n",
    "\n",
    "## 1.3 Motivation: Research Question\n",
    "\n",
    "-   provides context for discussion (places issue within a larger debate or sphere of relevance)\n",
    "\n",
    "## 1.4 Scope: Aim & Context of the Research\n",
    "\n",
    "## 1.5 Significance of the Research: Theory of Change\n",
    "\n",
    "• states precise thesis or position the author will argue for\n",
    "\n",
    "## 1.6 Thesis Statement & Position: (Aim of the Paper)\n",
    "\n",
    "-   provides roadmap indicating structure and key content points of the essay\n",
    "\n",
    "## 1.7 Overview: Structure & Approach of the Paper (Roadmap — Theory of Change)\n",
    "\n",
    "## 1.8 Table of Contents\n",
    "\n",
    "# 2. Context\n",
    "\n",
    "### 2.0.1 20% of Grade:\n",
    "\n",
    "-   demonstrates understanding of all relevant core concepts\n",
    "\n",
    "-   explains why the question/thesis/problem is relevant in student’s own words (supported by quotations)\n",
    "\n",
    "-   situates it within the debate/course material\n",
    "\n",
    "-   reconstructs selected arguments and identifies relevant assumptions\n",
    "\n",
    "-   describes additional relevant material that has been consulted and integrates it with the course material as well as the research question/thesis/problem\n",
    "\n",
    "~ 29% of text ~ 8700 words\n",
    "\n",
    "1.  successively (chunk my chunk) introduce concepts/ideas — and 2. ground each with existing literature\n",
    "\n",
    "<!-- ---\n",
    "title: \"Background\"\n",
    "# Control if this file starts numbering\n",
    "numbering:\n",
    "  start-at: 2      # Start at Section 1\n",
    "  level: 2         # Chapter level\n",
    "--- -->\n",
    "\n",
    "## 2.1 Theoretical Background Considerations\n",
    "\n",
    "### 2.1.1 DAG / BayesNets\n",
    "\n",
    "### 2.1.2 State of the art (MTAIR) — Explanation\n",
    "\n",
    "#### 2.1.2.1 Carlsmith Model (Analytica)\n",
    "\n",
    "### 2.1.3 (Intro) Example — Rain/Sprinkler/Lawn\n",
    "\n",
    "/ Rain/Sprinkler/Lawn DAG / BayesNet — Extended Example\n",
    "\n",
    "    …\n",
    "\n",
    "Own Position/Argument: AMTAIR … Own Rain/Sprinkler/Lawn DAG / BayesNet Implementation\n",
    "\n",
    "<!-- ---\n",
    "title: \"Methodology\"\n",
    "# Control if this file starts numbering\n",
    "numbering:\n",
    "  start-at: 2      # Start at Section 1\n",
    "  level: 2         # Chapter level\n",
    "--- -->\n",
    "\n",
    "## 2.2 Methodology\n",
    "\n",
    "MTAIR / Carlsmith Model (Analytica) — Explanation (— is motivation: should come first)\n",
    "\n",
    "### 2.2.1 Kialo\n",
    "\n",
    "### 2.2.2 Rain/Sprinkler/Lawn DAG\n",
    "\n",
    "### 2.2.3 BayeServer\n",
    "\n",
    "### 2.2.4 BayesNet — Extended Example\n",
    "\n",
    "### 2.2.5 Code + documentation\n",
    "\n",
    "# 3. AMTAIR\n",
    "\n",
    "### 3.0.1 20% of Grade: ~ 29% of text ~ 8700 words\n",
    "\n",
    "-   provides critical or constructive evaluation of positions introduced\n",
    "-   develops strong (plausible) argument in support of author’s own position/thesis\n",
    "-   argument draws on relevant course material claim/argument\n",
    "-   demonstrate understanding of the course materials incl. key arguments and core concepts within the debate\n",
    "-   claim/argument is original or insightful, possibly even presents an original contribution to the debate\n",
    "\n",
    "## 3.1 Own Carlsmith Model Implementation — Explanation\n",
    "\n",
    "## 3.2 Own Implementation: Good example from a published paper\n",
    "\n",
    "## 3.3 Implementation\n",
    "\n",
    "TestText\n",
    "\n",
    "## 3.4 Results\n",
    "\n",
    "TestText\n",
    "\n",
    "<!-- No Headings after .md inclusion (creates a fatal bug with the ToC) -->\n",
    "\n",
    "# 4. Discussion\n",
    "\n",
    "## 4.1 Discussion\n",
    "\n",
    "10% of Grade: ~ 14% of text ~ 4200 words\n",
    "\n",
    "-   discusses a specific objection to student’s own argument\n",
    "-   provides a convincing reply that bolsters or refines the main argument\n",
    "-   relates to or extends beyond materials/arguments covered in class\n",
    "\n",
    "# 5. Conclusion\n",
    "\n",
    "## 5.1 Conclusion\n",
    "\n",
    "10% of Grade: ~ 14% of text ~ 4200 words\n",
    "\n",
    "-   summarizes thesis and line of argument\n",
    "-   outlines possible implications\n",
    "-   notes outstanding issues / limitations of discussion\n",
    "-   points to avenues for further research\n",
    "-   overall conclusion is in line with introduction"
   ],
   "id": "f7265c1b-6a43-4269-b471-6bc658e3f46e"
  },
  {
   "cell_type": "raw",
   "metadata": {
    "raw_mimetype": "text/html"
   },
   "source": [
    "<!-- {{< include context/GradingRubric.md >}} -->"
   ],
   "id": "32606932-e983-498c-9531-ab56ffef1fb3"
  },
  {
   "cell_type": "markdown",
   "metadata": {},
   "source": [
    "## Bibliography/References\n",
    "\n",
    "# Prefatory Apparatus: Illustrations and Terminology — Quick References"
   ],
   "id": "af819dc8-d2df-4448-89cc-f2ddd5ad84dc"
  },
  {
   "cell_type": "raw",
   "metadata": {
    "raw_mimetype": "text/html"
   },
   "source": [
    "<!-- {{< embed chapters/Frontmatter.qmd >}}  -->"
   ],
   "id": "983093d5-6cf5-4e7b-b54e-19f0972e5a77"
  },
  {
   "cell_type": "markdown",
   "metadata": {},
   "source": [
    "## List of Tables\n",
    "\n",
    "Table 1: Table name\n",
    "\n",
    "Table 2: Table name\n",
    "\n",
    "Table 3: Table name\n",
    "\n",
    "## List of Graphics & Figures\n",
    "\n",
    "## List of Abbreviations\n",
    "\n",
    "esp. especially\n",
    "\n",
    "f., ff. following\n",
    "\n",
    "incl. including\n",
    "\n",
    "p., pp. page(s)\n",
    "\n",
    "MAD Mutually Assured Destruction\n",
    "\n",
    "## Glossary\n",
    "\n",
    "term  \n",
    "Definition of term\n",
    "\n",
    "Another term  \n",
    "Description of second term\n",
    "\n",
    "Text"
   ],
   "id": "2d642788-69a2-4334-a7ff-d95bd82fabc0"
  },
  {
   "cell_type": "raw",
   "metadata": {
    "raw_mimetype": "text/html"
   },
   "source": [
    "<!-- # Affidavit {.unnumbered} -->"
   ],
   "id": "27a3a6b4-e3e5-4dac-813f-d83d0a497347"
  },
  {
   "cell_type": "markdown",
   "metadata": {},
   "source": [
    "# 6. Appendices\n",
    "\n",
    "## 6.1 Appendices\n",
    "\n",
    "## 6.2 Appendix A\n",
    "\n",
    "## 6.3 Appendix B\n",
    "\n",
    "## 6.4 Appendix C\n",
    "\n",
    "## 6.5 Appendix D\n",
    "\n",
    "TestText\n",
    "\n",
    "<!-- ## Affidavit -->\n",
    "\n",
    "# Notebooks"
   ],
   "id": "b2288f03-4b33-49b9-8623-1edb9af2fd41"
  }
 ],
 "nbformat": 4,
 "nbformat_minor": 5,
 "metadata": {}
}
