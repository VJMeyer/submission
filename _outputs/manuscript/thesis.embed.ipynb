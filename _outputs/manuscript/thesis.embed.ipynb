{
 "cells": [
  {
   "cell_type": "markdown",
   "metadata": {},
   "source": [
    "# Automating the Modelling of Transformative Artificial Intelligence\n",
    "\n",
    "Risks\n",
    "\n",
    "An Epistemic Framework for Leveraging Frontier AI Systems to Upscale Conditional Policy Assessments in Bayesian Networks on a Narrow Path towards Existential Safety\n",
    "\n",
    "Valentin Jakob Meyer [![](data:image/png;base64,iVBORw0KGgoAAAANSUhEUgAAABAAAAAQCAYAAAAf8/9hAAAAGXRFWHRTb2Z0d2FyZQBBZG9iZSBJbWFnZVJlYWR5ccllPAAAA2ZpVFh0WE1MOmNvbS5hZG9iZS54bXAAAAAAADw/eHBhY2tldCBiZWdpbj0i77u/IiBpZD0iVzVNME1wQ2VoaUh6cmVTek5UY3prYzlkIj8+IDx4OnhtcG1ldGEgeG1sbnM6eD0iYWRvYmU6bnM6bWV0YS8iIHg6eG1wdGs9IkFkb2JlIFhNUCBDb3JlIDUuMC1jMDYwIDYxLjEzNDc3NywgMjAxMC8wMi8xMi0xNzozMjowMCAgICAgICAgIj4gPHJkZjpSREYgeG1sbnM6cmRmPSJodHRwOi8vd3d3LnczLm9yZy8xOTk5LzAyLzIyLXJkZi1zeW50YXgtbnMjIj4gPHJkZjpEZXNjcmlwdGlvbiByZGY6YWJvdXQ9IiIgeG1sbnM6eG1wTU09Imh0dHA6Ly9ucy5hZG9iZS5jb20veGFwLzEuMC9tbS8iIHhtbG5zOnN0UmVmPSJodHRwOi8vbnMuYWRvYmUuY29tL3hhcC8xLjAvc1R5cGUvUmVzb3VyY2VSZWYjIiB4bWxuczp4bXA9Imh0dHA6Ly9ucy5hZG9iZS5jb20veGFwLzEuMC8iIHhtcE1NOk9yaWdpbmFsRG9jdW1lbnRJRD0ieG1wLmRpZDo1N0NEMjA4MDI1MjA2ODExOTk0QzkzNTEzRjZEQTg1NyIgeG1wTU06RG9jdW1lbnRJRD0ieG1wLmRpZDozM0NDOEJGNEZGNTcxMUUxODdBOEVCODg2RjdCQ0QwOSIgeG1wTU06SW5zdGFuY2VJRD0ieG1wLmlpZDozM0NDOEJGM0ZGNTcxMUUxODdBOEVCODg2RjdCQ0QwOSIgeG1wOkNyZWF0b3JUb29sPSJBZG9iZSBQaG90b3Nob3AgQ1M1IE1hY2ludG9zaCI+IDx4bXBNTTpEZXJpdmVkRnJvbSBzdFJlZjppbnN0YW5jZUlEPSJ4bXAuaWlkOkZDN0YxMTc0MDcyMDY4MTE5NUZFRDc5MUM2MUUwNEREIiBzdFJlZjpkb2N1bWVudElEPSJ4bXAuZGlkOjU3Q0QyMDgwMjUyMDY4MTE5OTRDOTM1MTNGNkRBODU3Ii8+IDwvcmRmOkRlc2NyaXB0aW9uPiA8L3JkZjpSREY+IDwveDp4bXBtZXRhPiA8P3hwYWNrZXQgZW5kPSJyIj8+84NovQAAAR1JREFUeNpiZEADy85ZJgCpeCB2QJM6AMQLo4yOL0AWZETSqACk1gOxAQN+cAGIA4EGPQBxmJA0nwdpjjQ8xqArmczw5tMHXAaALDgP1QMxAGqzAAPxQACqh4ER6uf5MBlkm0X4EGayMfMw/Pr7Bd2gRBZogMFBrv01hisv5jLsv9nLAPIOMnjy8RDDyYctyAbFM2EJbRQw+aAWw/LzVgx7b+cwCHKqMhjJFCBLOzAR6+lXX84xnHjYyqAo5IUizkRCwIENQQckGSDGY4TVgAPEaraQr2a4/24bSuoExcJCfAEJihXkWDj3ZAKy9EJGaEo8T0QSxkjSwORsCAuDQCD+QILmD1A9kECEZgxDaEZhICIzGcIyEyOl2RkgwAAhkmC+eAm0TAAAAABJRU5ErkJggg==)](https://orcid.org/0009-0006-0889-5269) (University of Bayreuth, MCMP — LMU Munich)  \n",
    "Dr. Timo Speith (University of Bayreuth)  \n",
    "May 26, 2025\n",
    "\n",
    "This thesis addresses coordination problems in AI safety by creating tools that automatically extract and formalize the assumptions and models underlying different approaches to AI governance. By transforming complex arguments into interactive visualizations showing relationships and probabilities, AMTAIR helps bridge communication gaps between technical researchers, policy specialists, and other stakeholders working to address risks from advanced AI.\n",
    "\n",
    "# Abstract\n",
    "\n",
    "The coordination crisis in AI governance presents a paradoxical challenge: unprecedented investment in AI safety coexists alongside fundamental coordination failures across technical, policy, and ethical domains. These divisions systematically increase existential risk by creating safety gaps, misallocating resources, and fostering inconsistent approaches to interdependent problems. This thesis introduces AMTAIR (Automating Transformative AI Risk Modeling), a computational approach that addresses this coordination failure by automating the extraction of probabilistic world models from AI safety literature using frontier language models.\n",
    "\n",
    "The AMTAIR system implements an end-to-end pipeline that transforms unstructured text into interactive Bayesian networks through a novel two-stage extraction process: first capturing argument structure in ArgDown format, then enhancing it with probability information in BayesDown. This approach bridges communication gaps between stakeholders by making implicit models explicit, enabling comparison across different worldviews, providing a common language for discussing probabilistic relationships, and supporting policy evaluation across diverse scenarios."
   ],
   "id": "f096cb60-1be7-4a2f-94f3-ab6e95015f54"
  },
  {
   "cell_type": "raw",
   "metadata": {
    "raw_mimetype": "text/html"
   },
   "source": [
    "<!-- [ ] Figure out Outline to Outline to Draft Workflow -->"
   ],
   "id": "4bd68b27-b25c-41f7-83e8-5180c468cd7b"
  },
  {
   "cell_type": "raw",
   "metadata": {
    "raw_mimetype": "text/html"
   },
   "source": [
    "<!-- [ ]: Clean up the introduction -->"
   ],
   "id": "a15b1cba-9f0f-46fa-8866-f24150aaf958"
  },
  {
   "cell_type": "raw",
   "metadata": {
    "raw_mimetype": "text/html"
   },
   "source": [
    "<!-- [ ]: Test Quarto-Code-Links: https://quarto.org/docs/manuscripts/components.html#code-links -->"
   ],
   "id": "ea1f6d8c-aa05-4c55-945a-4d968d4d3f10"
  },
  {
   "cell_type": "code",
   "execution_count": null,
   "metadata": {},
   "outputs": [],
   "source": [
    "# [ ]: Configure the Quarto Manuscript options: https://quarto.org/docs/manuscripts/components.html#including-notebooks"
   ],
   "id": "18a65e78-a6f2-4eb0-88f0-f82c137050e8"
  },
  {
   "cell_type": "markdown",
   "metadata": {},
   "source": [
    "## Grading\n",
    "\n",
    "### Research (10%)\n",
    "\n",
    "-   demonstrates knowledge of the subject area as drawn from appropriate sources\n",
    "-   incorporates insights from in-class discussions\n",
    "-   draws on appropriate additional materials beyond those covered in class (primary as well as secondary sources)\n",
    "-   covers relevant material at appropriate level of detail\n",
    "\n",
    "## Structure (10%)\n",
    "\n",
    "-   outlines project clearly in the introduction\n",
    "\n",
    "-   discussion follows a logical order\n",
    "\n",
    "-   order of sections corresponds to outline\n",
    "\n",
    "-   uses appropriate topic and transition sentences\n",
    "\n",
    "-   employs proper signposting and cross-referencing throughout paper\n",
    "\n",
    "-   sections are appropriately numbered and headlined"
   ],
   "id": "68498817-7c75-4e8d-8ab3-bb30cab0b298"
  },
  {
   "cell_type": "raw",
   "metadata": {
    "raw_mimetype": "text/html"
   },
   "source": [
    "<!-- ::: callout-tip -->"
   ],
   "id": "82ff12a5-eb23-44ad-b7b0-58442085263c"
  },
  {
   "cell_type": "markdown",
   "metadata": {},
   "source": [
    "## Callout Test — Language & Style (10%)\n",
    "\n",
    "-   employs appropriate tone and academic language\n",
    "\n",
    "-   uses effective and sophisticated sentence variety, diction, and vocabulary\n",
    "\n",
    "-   employs correct English spelling and grammar\n",
    "\n",
    "-   is clearly written and uses appropriate sentence complexity\n",
    "\n",
    "-   communicates main points effectively / is easy to follow\n",
    "\n",
    "-   formats citations and references correctly and consistently (e.g. (AUTHOR, YEAR) citation style)\n",
    "\n",
    "-   names all primary and secondary sources\n",
    "\n",
    "-   includes a complete list of references with full bibliographic details"
   ],
   "id": "852d61fe-7f05-428f-b4e4-2d6a8e54f5c5"
  },
  {
   "cell_type": "raw",
   "metadata": {
    "raw_mimetype": "text/html"
   },
   "source": [
    "<!-- ::: -->"
   ],
   "id": "e4242c2c-c02a-4ca6-910e-027c09943a31"
  },
  {
   "cell_type": "markdown",
   "metadata": {},
   "source": [
    "More text\n",
    "\n",
    "# Introduction\n",
    "\n",
    "## Introduction\n",
    "\n",
    "10% of Grade:\n",
    "\n",
    "-   introduces and motivates the core question or problem\n",
    "-   provides context for discussion (places issue within a larger debate or sphere of relevance)\n",
    "-   states precise thesis or position the author will argue for\n",
    "-   provides roadmap indicating structure and key content points of the essay\n",
    "\n",
    "~ 14% of text ~ 4200 words\n",
    "\n",
    "-   introduces and motivates the core question or problem\n",
    "\n",
    "## Motivation: Problem Statement\n",
    "\n",
    "## Motivation: Research Question\n",
    "\n",
    "-   provides context for discussion (places issue within a larger debate or sphere of relevance)\n",
    "\n",
    "## Scope: Aim & Context of the Research\n",
    "\n",
    "## Significance of the Research: Theory of Change\n",
    "\n",
    "• states precise thesis or position the author will argue for\n",
    "\n",
    "## Thesis Statement & Position: (Aim of the Paper)\n",
    "\n",
    "-   provides roadmap indicating structure and key content points of the essay\n",
    "\n",
    "## Overview: Structure & Approach of the Paper (Roadmap — Theory of Change)\n",
    "\n",
    "## Table of Contents\n",
    "\n",
    "# Context\n",
    "\n",
    "### 20% of Grade:\n",
    "\n",
    "-   demonstrates understanding of all relevant core concepts\n",
    "\n",
    "-   explains why the question/thesis/problem is relevant in student’s own words (supported by quotations)\n",
    "\n",
    "-   situates it within the debate/course material\n",
    "\n",
    "-   reconstructs selected arguments and identifies relevant assumptions\n",
    "\n",
    "-   describes additional relevant material that has been consulted and integrates it with the course material as well as the research question/thesis/problem\n",
    "\n",
    "~ 29% of text ~ 8700 words\n",
    "\n",
    "1.  successively (chunk my chunk) introduce concepts/ideas — and 2. ground each with existing literature\n",
    "\n",
    "<!-- ---\n",
    "title: \"Background\"\n",
    "# Control if this file starts numbering\n",
    "numbering:\n",
    "  start-at: 2      # Start at Section 1\n",
    "  level: 2         # Chapter level\n",
    "--- -->\n",
    "\n",
    "## Theoretical Background Considerations\n",
    "\n",
    "### DAG / BayesNets\n",
    "\n",
    "### State of the art (MTAIR) — Explanation\n",
    "\n",
    "#### Carlsmith Model (Analytica)\n",
    "\n",
    "### (Intro) Example — Rain/Sprinkler/Lawn\n",
    "\n",
    "/ Rain/Sprinkler/Lawn DAG / BayesNet — Extended Example\n",
    "\n",
    "    …\n",
    "\n",
    "Own Position/Argument: AMTAIR … Own Rain/Sprinkler/Lawn DAG / BayesNet Implementation\n",
    "\n",
    "<!-- ---\n",
    "title: \"Methodology\"\n",
    "# Control if this file starts numbering\n",
    "numbering:\n",
    "  start-at: 2      # Start at Section 1\n",
    "  level: 2         # Chapter level\n",
    "--- -->\n",
    "\n",
    "## Methodology\n",
    "\n",
    "MTAIR / Carlsmith Model (Analytica) — Explanation (— is motivation: should come first)\n",
    "\n",
    "### Kialo\n",
    "\n",
    "### Rain/Sprinkler/Lawn DAG\n",
    "\n",
    "### BayeServer\n",
    "\n",
    "### BayesNet — Extended Example\n",
    "\n",
    "### Code + documentation\n",
    "\n",
    "# AMTAIR\n",
    "\n",
    "### 20% of Grade: ~ 29% of text ~ 8700 words\n",
    "\n",
    "-   provides critical or constructive evaluation of positions introduced\n",
    "-   develops strong (plausible) argument in support of author’s own position/thesis\n",
    "-   argument draws on relevant course material claim/argument\n",
    "-   demonstrate understanding of the course materials incl. key arguments and core concepts within the debate\n",
    "-   claim/argument is original or insightful, possibly even presents an original contribution to the debate\n",
    "\n",
    "## Own Carlsmith Model Implementation — Explanation\n",
    "\n",
    "## Own Implementation: Good example from a published paper\n",
    "\n",
    "## Implementation\n",
    "\n",
    "TestText\n",
    "\n",
    "## Results\n",
    "\n",
    "TestText\n",
    "\n",
    "<!-- No Headings after .md inclusion (creates a fatal bug with the ToC) -->\n",
    "\n",
    "# Discussion\n",
    "\n",
    "## Discussion\n",
    "\n",
    "10% of Grade: ~ 14% of text ~ 4200 words\n",
    "\n",
    "-   discusses a specific objection to student’s own argument\n",
    "-   provides a convincing reply that bolsters or refines the main argument\n",
    "-   relates to or extends beyond materials/arguments covered in class\n",
    "\n",
    "# Conclusion\n",
    "\n",
    "## Conclusion\n",
    "\n",
    "10% of Grade: ~ 14% of text ~ 4200 words\n",
    "\n",
    "-   summarizes thesis and line of argument\n",
    "-   outlines possible implications\n",
    "-   notes outstanding issues / limitations of discussion\n",
    "-   points to avenues for further research\n",
    "-   overall conclusion is in line with introduction"
   ],
   "id": "ee17ae49-10de-4b52-82bf-e9b6b82acf26"
  },
  {
   "cell_type": "raw",
   "metadata": {
    "raw_mimetype": "text/html"
   },
   "source": [
    "<!-- {{< include context/GradingRubric.md >}} -->"
   ],
   "id": "5967a5ad-d6a2-4cb0-946a-9a891511291c"
  },
  {
   "cell_type": "markdown",
   "metadata": {},
   "source": [
    "## Bibliography/References\n",
    "\n",
    "# Prefatory Apparatus: Illustrations and Terminology — Quick References"
   ],
   "id": "f97dde86-f3c1-459b-b6ed-7a520b24a4c2"
  },
  {
   "cell_type": "raw",
   "metadata": {
    "raw_mimetype": "text/html"
   },
   "source": [
    "<!-- {{< embed chapters/Frontmatter.qmd >}}  -->"
   ],
   "id": "fcc93b42-07b2-44c5-b49b-7215c63ff380"
  },
  {
   "cell_type": "markdown",
   "metadata": {},
   "source": [
    "## List of Tables\n",
    "\n",
    "Table 1: Table name\n",
    "\n",
    "Table 2: Table name\n",
    "\n",
    "Table 3: Table name\n",
    "\n",
    "## List of Graphics & Figures\n",
    "\n",
    "## List of Abbreviations\n",
    "\n",
    "esp. especially\n",
    "\n",
    "f., ff. following\n",
    "\n",
    "incl. including\n",
    "\n",
    "p., pp. page(s)\n",
    "\n",
    "MAD Mutually Assured Destruction\n",
    "\n",
    "## Glossary\n",
    "\n",
    "term  \n",
    "Definition of term\n",
    "\n",
    "Another term  \n",
    "Description of second term\n",
    "\n",
    "Text"
   ],
   "id": "fd4ce740-d812-42a7-af73-0f2cef3a4a20"
  },
  {
   "cell_type": "raw",
   "metadata": {
    "raw_mimetype": "text/html"
   },
   "source": [
    "<!-- # Affidavit {.unnumbered} -->"
   ],
   "id": "ef347226-47fd-4060-bd83-cfdfe2de8af6"
  },
  {
   "cell_type": "markdown",
   "metadata": {},
   "source": [
    "# Appendices\n",
    "\n",
    "## Appendices\n",
    "\n",
    "## Appendix A\n",
    "\n",
    "## Appendix B\n",
    "\n",
    "## Appendix C\n",
    "\n",
    "## Appendix D\n",
    "\n",
    "TestText\n",
    "\n",
    "<!-- ## Affidavit -->\n",
    "\n",
    "# Notebooks"
   ],
   "id": "f6a7b605-0bb1-4ac2-8573-aa491c52139a"
  }
 ],
 "nbformat": 4,
 "nbformat_minor": 5,
 "metadata": {}
}
