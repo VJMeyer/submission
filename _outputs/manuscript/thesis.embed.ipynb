{
 "cells": [
  {
   "cell_type": "markdown",
   "metadata": {},
   "source": [
    "# Automating the Modelling of Transformative Artificial Intelligence\n",
    "\n",
    "Risks\n",
    "\n",
    "An Epistemic Framework for Leveraging Frontier AI Systems to Upscale Conditional Policy Assessments in Bayesian Networks on a Narrow Path towards Existential Safety\n",
    "\n",
    "Valentin Jakob Meyer [![](data:image/png;base64,iVBORw0KGgoAAAANSUhEUgAAABAAAAAQCAYAAAAf8/9hAAAAGXRFWHRTb2Z0d2FyZQBBZG9iZSBJbWFnZVJlYWR5ccllPAAAA2ZpVFh0WE1MOmNvbS5hZG9iZS54bXAAAAAAADw/eHBhY2tldCBiZWdpbj0i77u/IiBpZD0iVzVNME1wQ2VoaUh6cmVTek5UY3prYzlkIj8+IDx4OnhtcG1ldGEgeG1sbnM6eD0iYWRvYmU6bnM6bWV0YS8iIHg6eG1wdGs9IkFkb2JlIFhNUCBDb3JlIDUuMC1jMDYwIDYxLjEzNDc3NywgMjAxMC8wMi8xMi0xNzozMjowMCAgICAgICAgIj4gPHJkZjpSREYgeG1sbnM6cmRmPSJodHRwOi8vd3d3LnczLm9yZy8xOTk5LzAyLzIyLXJkZi1zeW50YXgtbnMjIj4gPHJkZjpEZXNjcmlwdGlvbiByZGY6YWJvdXQ9IiIgeG1sbnM6eG1wTU09Imh0dHA6Ly9ucy5hZG9iZS5jb20veGFwLzEuMC9tbS8iIHhtbG5zOnN0UmVmPSJodHRwOi8vbnMuYWRvYmUuY29tL3hhcC8xLjAvc1R5cGUvUmVzb3VyY2VSZWYjIiB4bWxuczp4bXA9Imh0dHA6Ly9ucy5hZG9iZS5jb20veGFwLzEuMC8iIHhtcE1NOk9yaWdpbmFsRG9jdW1lbnRJRD0ieG1wLmRpZDo1N0NEMjA4MDI1MjA2ODExOTk0QzkzNTEzRjZEQTg1NyIgeG1wTU06RG9jdW1lbnRJRD0ieG1wLmRpZDozM0NDOEJGNEZGNTcxMUUxODdBOEVCODg2RjdCQ0QwOSIgeG1wTU06SW5zdGFuY2VJRD0ieG1wLmlpZDozM0NDOEJGM0ZGNTcxMUUxODdBOEVCODg2RjdCQ0QwOSIgeG1wOkNyZWF0b3JUb29sPSJBZG9iZSBQaG90b3Nob3AgQ1M1IE1hY2ludG9zaCI+IDx4bXBNTTpEZXJpdmVkRnJvbSBzdFJlZjppbnN0YW5jZUlEPSJ4bXAuaWlkOkZDN0YxMTc0MDcyMDY4MTE5NUZFRDc5MUM2MUUwNEREIiBzdFJlZjpkb2N1bWVudElEPSJ4bXAuZGlkOjU3Q0QyMDgwMjUyMDY4MTE5OTRDOTM1MTNGNkRBODU3Ii8+IDwvcmRmOkRlc2NyaXB0aW9uPiA8L3JkZjpSREY+IDwveDp4bXBtZXRhPiA8P3hwYWNrZXQgZW5kPSJyIj8+84NovQAAAR1JREFUeNpiZEADy85ZJgCpeCB2QJM6AMQLo4yOL0AWZETSqACk1gOxAQN+cAGIA4EGPQBxmJA0nwdpjjQ8xqArmczw5tMHXAaALDgP1QMxAGqzAAPxQACqh4ER6uf5MBlkm0X4EGayMfMw/Pr7Bd2gRBZogMFBrv01hisv5jLsv9nLAPIOMnjy8RDDyYctyAbFM2EJbRQw+aAWw/LzVgx7b+cwCHKqMhjJFCBLOzAR6+lXX84xnHjYyqAo5IUizkRCwIENQQckGSDGY4TVgAPEaraQr2a4/24bSuoExcJCfAEJihXkWDj3ZAKy9EJGaEo8T0QSxkjSwORsCAuDQCD+QILmD1A9kECEZgxDaEZhICIzGcIyEyOl2RkgwAAhkmC+eAm0TAAAAABJRU5ErkJggg==)](https://orcid.org/0009-0006-0889-5269) (University of Bayreuth, MCMP — LMU Munich)  \n",
    "Dr. Timo Speith (University of Bayreuth)  \n",
    "May 26, 2025\n",
    "\n",
    "This thesis addresses coordination problems in AI safety by creating tools that automatically extract and formalize the assumptions and models underlying different approaches to AI governance. By transforming complex arguments into interactive visualizations showing relationships and probabilities, AMTAIR helps bridge communication gaps between technical researchers, policy specialists, and other stakeholders working to address risks from advanced AI.\n",
    "\n",
    "# Abstract\n",
    "\n",
    "The coordination crisis in AI governance presents a paradoxical challenge: unprecedented investment in AI safety coexists alongside fundamental coordination failures across technical, policy, and ethical domains. These divisions systematically increase existential risk by creating safety gaps, misallocating resources, and fostering inconsistent approaches to interdependent problems. This thesis introduces AMTAIR (Automating Transformative AI Risk Modeling), a computational approach that addresses this coordination failure by automating the extraction of probabilistic world models from AI safety literature using frontier language models.\n",
    "\n",
    "The AMTAIR system implements an end-to-end pipeline that transforms unstructured text into interactive Bayesian networks through a novel two-stage extraction process: first capturing argument structure in ArgDown format, then enhancing it with probability information in BayesDown. This approach bridges communication gaps between stakeholders by making implicit models explicit, enabling comparison across different worldviews, providing a common language for discussing probabilistic relationships, and supporting policy evaluation across diverse scenarios."
   ],
   "id": "42edd8d5-c8ff-4385-9583-b8cd13d23a7a"
  },
  {
   "cell_type": "raw",
   "metadata": {
    "raw_mimetype": "text/html"
   },
   "source": [
    "<!-- [ ] Figure out Outline to Outline to Draft Workflow -->"
   ],
   "id": "6539ceb0-00ef-4bb3-b8fc-1c8e0ac95920"
  },
  {
   "cell_type": "raw",
   "metadata": {
    "raw_mimetype": "text/html"
   },
   "source": [
    "<!-- [ ] Figure out Thesis \"styling\" (book vs manuscript) -->"
   ],
   "id": "ce652289-492f-43fd-9a92-1036a9a19a3e"
  },
  {
   "cell_type": "raw",
   "metadata": {
    "raw_mimetype": "text/html"
   },
   "source": [
    "<!-- [ ] Setup reliable \"save as PDF\" -->"
   ],
   "id": "2591b425-5baf-4415-91b9-d6e2a75472a2"
  },
  {
   "cell_type": "raw",
   "metadata": {
    "raw_mimetype": "text/html"
   },
   "source": [
    "<!-- [ ] Setup \"save as LaTeX\" -->"
   ],
   "id": "c3fa8efb-2162-4f95-8c04-537b91f2b2a9"
  },
  {
   "cell_type": "raw",
   "metadata": {
    "raw_mimetype": "text/html"
   },
   "source": [
    "<!-- [ ] Adapt LaTeX / PDF based on (journal) template -->"
   ],
   "id": "5fedbc8f-e90e-4d32-a2cf-bbff2ab46bcd"
  },
  {
   "cell_type": "raw",
   "metadata": {
    "raw_mimetype": "text/html"
   },
   "source": [
    "<!-- [ ]: Clean up the introduction -->"
   ],
   "id": "a1cd8ae5-072a-43b6-9206-a6423fd6206c"
  },
  {
   "cell_type": "raw",
   "metadata": {
    "raw_mimetype": "text/html"
   },
   "source": [
    "<!-- [ ]: Test Quarto-Code-Links: https://quarto.org/docs/manuscripts/components.html#code-links -->"
   ],
   "id": "f7b9d34e-8c37-469f-9933-47b295ff28e3"
  },
  {
   "cell_type": "code",
   "execution_count": null,
   "metadata": {},
   "outputs": [],
   "source": [
    "# [ ]: Configure the Quarto Manuscript options: https://quarto.org/docs/manuscripts/components.html#including-notebooks"
   ],
   "id": "3e588542-15c5-4b43-ad4d-137348c365e4"
  },
  {
   "cell_type": "raw",
   "metadata": {
    "raw_mimetype": "text/html"
   },
   "source": [
    "<!-- \n",
    "# Grading\n",
    "\n",
    "## Research (10%)\n",
    "• demonstrates knowledge of the subject area as drawn from appropriate sources\n",
    "• incorporates insights from in-class discussions\n",
    "• draws on appropriate additional materials beyond those covered in class (primary as well as secondary sources)\n",
    "• covers relevant material at appropriate level of detail\n",
    "\n",
    "## Structure (10%)\n",
    "• outlines project clearly in the introduction\n",
    "• discussion follows a logical order\n",
    "• order of sections corresponds to outline\n",
    "• uses appropriate topic and transition sentences\n",
    "• employs proper signposting and cross-referencing throughout paper\n",
    "• sections are appropriately numbered and headlined\n",
    "\n",
    "##Language and Style (10%)\n",
    "• employs appropriate tone and academic language\n",
    "• uses effective and sophisticated sentence variety, diction, and vocabulary\n",
    "• employs correct English spelling and grammar\n",
    "• is clearly written and uses appropriate sentence complexity\n",
    "• communicates main points effectively / is easy to follow\n",
    "• formats citations and references correctly and consistently (e.g. (AUTHOR, YEAR) citation style)\n",
    "• names all primary and secondary sources\n",
    "• includes a complete list of references with full bibliographic details\n",
    "\n",
    " -->"
   ],
   "id": "32270019-8ea4-4776-ae7e-c579d6279ceb"
  },
  {
   "cell_type": "markdown",
   "metadata": {},
   "source": [
    "More text\n",
    "\n",
    "# Introduction\n",
    "\n",
    "## Introduction\n",
    "\n",
    "10% of Grade:\n",
    "\n",
    "• introduces and motivates the core question or problem • provides context for discussion (places issue within a larger debate or sphere of relevance) • states precise thesis or position the author will argue for • provides roadmap indicating structure and key content points of the essay\n",
    "\n",
    "~ 14% of text ~ 4200 words\n",
    "\n",
    "• introduces and motivates the core question or problem\n",
    "\n",
    "## Motivation: Problem Statement\n",
    "\n",
    "## Motivation: Research Question\n",
    "\n",
    "• provides context for discussion (places issue within a larger debate or sphere of relevance)\n",
    "\n",
    "## Scope: Aim & Context of the Research\n",
    "\n",
    "## Significance of the Research: Theory of Change\n",
    "\n",
    "• states precise thesis or position the author will argue for\n",
    "\n",
    "## Thesis Statement & Position: (Aim of the Paper)\n",
    "\n",
    "• provides roadmap indicating structure and key content points of the essay\n",
    "\n",
    "## Overview: Structure & Approach of the Paper (Roadmap — Theory of Change)\n",
    "\n",
    "## Table of Contents\n",
    "\n",
    "# Context\n",
    "\n",
    "## Context\n",
    "\n",
    "20% of Grade:\n",
    "\n",
    "• demonstrates understanding of all relevant core concepts • explains why the question/thesis/problem is relevant in student’s own words (supported by quotations) • situates it within the debate/course material • reconstructs selected arguments and identifies relevant assumptions • describes additional relevant material that has been consulted and integrates it with the course material as well as the research question/thesis/problem\n",
    "\n",
    "~ 29% of text ~ 8700 words\n",
    "\n",
    "1.  successively (chunk my chunk) introduce concepts/ideas — and 2. ground each with existing literature\n",
    "\n",
    "<!-- {{< embed Background.qmd >}} -->\n",
    "\n",
    "<!-- {{< embed Methodology.qmd >}} -->\n",
    "\n",
    "# AMTAIR\n",
    "\n",
    "## AMTAIR\n",
    "\n",
    "20% of Grade:\n",
    "\n",
    "• provides critical or constructive evaluation of positions introduced • develops strong (plausible) argument in support of author’s own position/thesis • argument draws on relevant course material • claim/argument demonstrates understanding of the course materials incl. key arguments and core concepts within the debate • claim/argument is original or insightful, possibly even presents an original contribution to the debate\n",
    "\n",
    "~ 29% of text ~ 8700 words\n",
    "\n",
    "<!-- {{< embed Implementation.qmd >}} -->\n",
    "\n",
    "<!-- {{< embed Results.qmd >}} -->\n",
    "\n",
    "# Discussion\n",
    "\n",
    "## Discussion\n",
    "\n",
    "10% of Grade:\n",
    "\n",
    "• discusses a specific objection to student’s own argument • provides a convincing reply that bolsters or refines the main argument • relates to or extends beyond materials/arguments covered in class\n",
    "\n",
    "~ 14% of text ~ 4200 words\n",
    "\n",
    "# Conclusion\n",
    "\n",
    "## Conclusion\n",
    "\n",
    "10% of Grade:\n",
    "\n",
    "• summarizes thesis and line of argument • outlines possible implications • notes outstanding issues / limitations of discussion • points to avenues for further research • overall conclusion is in line with introduction\n",
    "\n",
    "~ 14% of text ~ 4200 words\n",
    "\n",
    "## Bibliography/References\n",
    "\n",
    "# Prefatory Apparatus: Illustrations and Terminology — Quick References\n",
    "\n",
    "## List of Tables\n",
    "\n",
    "Table 1: Table name\n",
    "\n",
    "Table 2: Table name\n",
    "\n",
    "Table 3: Table name\n",
    "\n",
    "## List of Graphics & Figures\n",
    "\n",
    "## List of Abbreviations\n",
    "\n",
    "esp. especially\n",
    "\n",
    "f., ff. following\n",
    "\n",
    "incl. including\n",
    "\n",
    "p., pp. page(s)\n",
    "\n",
    "MAD Mutually Assured Destruction\n",
    "\n",
    "## Glossary"
   ],
   "id": "bac31186-c1f1-4eee-8ac2-f12a36dd58a9"
  },
  {
   "cell_type": "raw",
   "metadata": {
    "raw_mimetype": "text/html"
   },
   "source": [
    "<!-- {{< embed chapters/Frontmatter.qmd >}}  -->"
   ],
   "id": "f078cd79-3413-4f01-9fbf-62ae3b88cd3c"
  },
  {
   "cell_type": "markdown",
   "metadata": {},
   "source": [
    "Text\n",
    "\n",
    "# Appendices\n",
    "\n",
    "## Appendices\n",
    "\n",
    "## Appendix A\n",
    "\n",
    "## Appendix B\n",
    "\n",
    "## Appendix C\n",
    "\n",
    "## Appendix D\n",
    "\n",
    "TestText\n",
    "\n",
    "## Affidavit\n",
    "\n",
    "# Notebooks"
   ],
   "id": "e1ac9542-794c-4c07-b51c-605bd65189b4"
  }
 ],
 "nbformat": 4,
 "nbformat_minor": 5,
 "metadata": {}
}
