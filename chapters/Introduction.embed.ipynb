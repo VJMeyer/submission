{
  "cells": [
    {
      "cell_type": "markdown",
      "metadata": {},
      "source": [
        "# Introduction\n",
        "\n",
        "## Introduction\n",
        "\n",
        "10% of Grade:\n",
        "\n",
        "-   introduces and motivates the core question or problem\n",
        "-   provides context for discussion (places issue within a larger debate\n",
        "    or sphere of relevance)\n",
        "-   states precise thesis or position the author will argue for\n",
        "-   provides roadmap indicating structure and key content points of the\n",
        "    essay\n",
        "\n",
        "~ 14% of text ~ 4200 words\n",
        "\n",
        "-   introduces and motivates the core question or problem\n",
        "\n",
        "## Motivation: Problem Statement\n",
        "\n",
        "## Motivation: Research Question\n",
        "\n",
        "-   provides context for discussion (places issue within a larger debate\n",
        "    or sphere of relevance)\n",
        "\n",
        "## Scope: Aim & Context of the Research\n",
        "\n",
        "## Significance of the Research: Theory of Change\n",
        "\n",
        "• states precise thesis or position the author will argue for\n",
        "\n",
        "## Thesis Statement & Position: (Aim of the Paper)\n",
        "\n",
        "-   provides roadmap indicating structure and key content points of the\n",
        "    essay\n",
        "\n",
        "## Overview: Structure & Approach of the Paper (Roadmap — Theory of Change)\n",
        "\n",
        "## Table of Contents"
      ],
      "id": "28dbf20d-ce3f-43e4-bb54-4bf40a6ec97c"
    }
  ],
  "nbformat": 4,
  "nbformat_minor": 5,
  "metadata": {
    "kernelspec": {
      "display_name": "Python 3",
      "language": "python",
      "name": "python3"
    }
  }
}