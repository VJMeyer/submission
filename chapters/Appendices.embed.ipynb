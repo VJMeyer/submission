{
  "cells": [
    {
      "cell_type": "markdown",
      "metadata": {},
      "source": [
        "# Appendices\n",
        "\n",
        "# Appendix A\n",
        "\n",
        "# Appendix B\n",
        "\n",
        "# Appendix C\n",
        "\n",
        "# Appendix D\n",
        "\n",
        "TestText\n",
        "\n",
        "# Affidavit"
      ],
      "id": "78097e65-a276-4236-b301-0e1fbb32cc09"
    }
  ],
  "nbformat": 4,
  "nbformat_minor": 5,
  "metadata": {
    "kernelspec": {
      "display_name": "Python 3",
      "language": "python",
      "name": "python3"
    }
  }
}