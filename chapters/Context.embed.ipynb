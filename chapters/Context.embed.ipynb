{
  "cells": [
    {
      "cell_type": "markdown",
      "metadata": {},
      "source": [
        "# Context\n",
        "\n",
        "20% of Grade:\n",
        "\n",
        "• demonstrates understanding of all relevant core concepts • explains\n",
        "why the question/thesis/problem is relevant in student’s own words\n",
        "(supported by quotations) • situates it within the debate/course\n",
        "material • reconstructs selected arguments and identifies relevant\n",
        "assumptions • describes additional relevant material that has been\n",
        "consulted and integrates it with the course material as well as the\n",
        "research question/thesis/problem\n",
        "\n",
        "~ 29% of text ~ 8700 words\n",
        "\n",
        "1.  successively (chunk my chunk) introduce concepts/ideas — and 2.\n",
        "    ground each with existing literature"
      ],
      "id": "9e527253-122b-4d58-9149-44d5cb59f5b9"
    },
    {
      "cell_type": "raw",
      "metadata": {
        "raw_mimetype": "text/html"
      },
      "source": [
        "<!-- {{< embed Background.qmd >}} -->"
      ],
      "id": "f8993306-d074-49f2-8e9c-3f8eb1234dd1"
    },
    {
      "cell_type": "raw",
      "metadata": {
        "raw_mimetype": "text/html"
      },
      "source": [
        "<!-- {{< embed Methodology.qmd >}} -->"
      ],
      "id": "5ffc0544-0116-4aae-9bac-1b72d102f071"
    }
  ],
  "nbformat": 4,
  "nbformat_minor": 5,
  "metadata": {
    "kernelspec": {
      "display_name": "Python 3",
      "language": "python",
      "name": "python3"
    }
  }
}