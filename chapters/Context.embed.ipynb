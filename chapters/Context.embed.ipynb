{
  "cells": [
    {
      "cell_type": "markdown",
      "metadata": {},
      "source": [
        "# Context\n",
        "\n",
        "20% of Grade:\n",
        "\n",
        "• demonstrates understanding of all relevant core concepts • explains\n",
        "why the question/thesis/problem is relevant in student’s own words\n",
        "(supported by quotations) • situates it within the debate/course\n",
        "material • reconstructs selected arguments and identifies relevant\n",
        "assumptions • describes additional relevant material that has been\n",
        "consulted and integrates it with the course material as well as the\n",
        "research question/thesis/problem\n",
        "\n",
        "~ 29% of text ~ 8700 words\n",
        "\n",
        "1.  successively (chunk my chunk) introduce concepts/ideas — and 2.\n",
        "    ground each with existing literature\n",
        "\n",
        "# \n",
        "\n",
        "# Background\n",
        "\n",
        "Background/Context: state of the art (MTAIR) … theoretical background\n",
        "considerations\n",
        "\n",
        "DAG / BayesNet Intro Example — Rain/Sprinkler/Lawn\n",
        "\n",
        "# \n",
        "\n",
        "# Methodology\n",
        "\n",
        "MTAIR / Carlsmith Model (Analytica) — Explanation (— is motivation:\n",
        "should come first)\n",
        "\n",
        "Kialo\n",
        "\n",
        "BayeServer / Rain/Sprinkler/Lawn DAG / BayesNet — Extended Example"
      ],
      "id": "62c90e40-0169-4f52-b203-3e346e149421"
    }
  ],
  "nbformat": 4,
  "nbformat_minor": 5,
  "metadata": {
    "kernelspec": {
      "display_name": "Python 3",
      "language": "python",
      "name": "python3"
    }
  }
}