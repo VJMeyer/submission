{
  "cells": [
    {
      "cell_type": "markdown",
      "metadata": {},
      "source": [
        "# AMTAIR\n",
        "\n",
        "### 20% of Grade:\n",
        "\n",
        "• provides critical or constructive evaluation of positions introduced •\n",
        "develops strong (plausible) argument in support of author’s own\n",
        "position/thesis • argument draws on relevant course material •\n",
        "claim/argument demonstrates understanding of the course materials incl.\n",
        "key arguments and core concepts within the debate • claim/argument is\n",
        "original or insightful, possibly even presents an original contribution\n",
        "to the debate\n",
        "\n",
        "~ 29% of text ~ 8700 words\n",
        "\n",
        "## Own Carlsmith Model Implementation — Explanation\n",
        "\n",
        "## Own Implementation: Good example from a published paper\n",
        "\n",
        "## Implementation\n",
        "\n",
        "TestText\n",
        "\n",
        "## Results\n",
        "\n",
        "TestText"
      ],
      "id": "c7c3cd0c-aaeb-4271-81b8-8b5e41aa48de"
    },
    {
      "cell_type": "raw",
      "metadata": {
        "raw_mimetype": "text/html"
      },
      "source": [
        "<!-- No Headings after .md inclusion (creates a fatal bug with the ToC) -->"
      ],
      "id": "7360b224-1aac-4488-b0f3-952830629780"
    }
  ],
  "nbformat": 4,
  "nbformat_minor": 5,
  "metadata": {
    "kernelspec": {
      "display_name": "Python 3",
      "language": "python",
      "name": "python3"
    }
  }
}