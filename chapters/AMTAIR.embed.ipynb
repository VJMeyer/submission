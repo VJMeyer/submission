{
  "cells": [
    {
      "cell_type": "markdown",
      "metadata": {},
      "source": [
        "# AMTAIR\n",
        "\n",
        "### 20% of Grade: ~ 29% of text ~ 8700 words\n",
        "\n",
        "-   provides critical or constructive evaluation of positions introduced\n",
        "-   develops strong (plausible) argument in support of author’s own\n",
        "    position/thesis\n",
        "-   argument draws on relevant course material claim/argument\n",
        "-   demonstrate understanding of the course materials incl. key\n",
        "    arguments and core concepts within the debate\n",
        "-   claim/argument is original or insightful, possibly even presents an\n",
        "    original contribution to the debate\n",
        "\n",
        "## Own Carlsmith Model Implementation — Explanation\n",
        "\n",
        "## Own Implementation: Good example from a published paper\n",
        "\n",
        "## Implementation\n",
        "\n",
        "TestText\n",
        "\n",
        "## Results\n",
        "\n",
        "TestText"
      ],
      "id": "b6d1ccc7-d5e4-4c44-a778-672548c30c19"
    },
    {
      "cell_type": "raw",
      "metadata": {
        "raw_mimetype": "text/html"
      },
      "source": [
        "<!-- No Headings after .md inclusion (creates a fatal bug with the ToC) -->"
      ],
      "id": "e9b47711-0bd5-441a-b1a3-1123416fed29"
    }
  ],
  "nbformat": 4,
  "nbformat_minor": 5,
  "metadata": {
    "kernelspec": {
      "display_name": "Python 3",
      "language": "python",
      "name": "python3"
    }
  }
}