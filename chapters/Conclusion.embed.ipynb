{
  "cells": [
    {
      "cell_type": "markdown",
      "metadata": {},
      "source": [
        "# Conclusion\n",
        "\n",
        "## Conclusion\n",
        "\n",
        "10% of Grade: ~ 14% of text ~ 4200 words\n",
        "\n",
        "-   summarizes thesis and line of argument\n",
        "-   outlines possible implications\n",
        "-   notes outstanding issues / limitations of discussion\n",
        "-   points to avenues for further research\n",
        "-   overall conclusion is in line with introduction"
      ],
      "id": "39b721ad-2236-4b57-87ea-7c0a6c1711b4"
    }
  ],
  "nbformat": 4,
  "nbformat_minor": 5,
  "metadata": {
    "kernelspec": {
      "display_name": "Python 3",
      "language": "python",
      "name": "python3"
    }
  }
}