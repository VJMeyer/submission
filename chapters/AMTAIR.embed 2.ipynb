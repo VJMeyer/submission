{
  "cells": [
    {
      "cell_type": "markdown",
      "metadata": {},
      "source": [
        "# AMTAIR\n",
        "\n",
        "20% of Grade:\n",
        "\n",
        "• provides critical or constructive evaluation of positions introduced •\n",
        "develops strong (plausible) argument in support of author’s own\n",
        "position/thesis • argument draws on relevant course material •\n",
        "claim/argument demonstrates understanding of the course materials incl.\n",
        "key arguments and core concepts within the debate • claim/argument is\n",
        "original or insightful, possibly even presents an original contribution\n",
        "to the debate\n",
        "\n",
        "~ 29% of text ~ 8700 words"
      ],
      "id": "c86a0f4b-fa3a-48b9-a8f7-c559e8021b5a"
    },
    {
      "cell_type": "raw",
      "metadata": {
        "raw_mimetype": "text/html"
      },
      "source": [
        "<!-- {{< embed Implementation.qmd >}} -->"
      ],
      "id": "9f0210ef-d7dd-484b-a885-5f952b82807c"
    },
    {
      "cell_type": "raw",
      "metadata": {
        "raw_mimetype": "text/html"
      },
      "source": [
        "<!-- {{< embed Results.qmd >}} -->"
      ],
      "id": "47c88527-0735-4b28-a3c6-97e06b60571f"
    }
  ],
  "nbformat": 4,
  "nbformat_minor": 5,
  "metadata": {
    "kernelspec": {
      "display_name": "Python 3",
      "language": "python",
      "name": "python3"
    }
  }
}