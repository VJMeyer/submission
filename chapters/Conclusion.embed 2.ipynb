{
  "cells": [
    {
      "cell_type": "markdown",
      "metadata": {},
      "source": [
        "# Conclusion\n",
        "\n",
        "10% of Grade:\n",
        "\n",
        "• summarizes thesis and line of argument • outlines possible\n",
        "implications • notes outstanding issues / limitations of discussion •\n",
        "points to avenues for further research • overall conclusion is in line\n",
        "with introduction\n",
        "\n",
        "~ 14% of text ~ 4200 words"
      ],
      "id": "e530760d-d139-4634-816f-4249acb95666"
    }
  ],
  "nbformat": 4,
  "nbformat_minor": 5,
  "metadata": {
    "kernelspec": {
      "display_name": "Python 3",
      "language": "python",
      "name": "python3"
    }
  }
}