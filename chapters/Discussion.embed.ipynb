{
  "cells": [
    {
      "cell_type": "markdown",
      "metadata": {},
      "source": [
        "# Discussion\n",
        "\n",
        "## Discussion\n",
        "\n",
        "10% of Grade: ~ 14% of text ~ 4200 words\n",
        "\n",
        "-   discusses a specific objection to student’s own argument\n",
        "-   provides a convincing reply that bolsters or refines the main\n",
        "    argument\n",
        "-   relates to or extends beyond materials/arguments covered in class"
      ],
      "id": "06be9115-a145-4ad2-ab88-126685830a2a"
    }
  ],
  "nbformat": 4,
  "nbformat_minor": 5,
  "metadata": {
    "kernelspec": {
      "display_name": "Python 3",
      "language": "python",
      "name": "python3"
    }
  }
}