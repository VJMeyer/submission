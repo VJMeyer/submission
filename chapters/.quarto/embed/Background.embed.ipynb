{
  "cells": [
    {
      "cell_type": "markdown",
      "metadata": {},
      "source": [
        "# Background\n",
        "\n",
        "## Background\n",
        "\n",
        "Background/Context: state of the art (MTAIR) … theoretical background\n",
        "considerations\n",
        "\n",
        "DAG / BayesNet Intro Example — Rain/Sprinkler/Lawn"
      ],
      "id": "613bf410-160d-4615-ba9a-070800736747"
    }
  ],
  "nbformat": 4,
  "nbformat_minor": 5,
  "metadata": {
    "kernelspec": {
      "display_name": "Python 3",
      "language": "python",
      "name": "python3"
    }
  }
}