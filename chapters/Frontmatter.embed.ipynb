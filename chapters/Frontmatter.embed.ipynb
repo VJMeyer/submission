{
  "cells": [
    {
      "cell_type": "markdown",
      "metadata": {},
      "source": [
        "# \n",
        "\n",
        "# Frontmatter\n",
        "\n",
        "# Prefatory Apparatus: Illustrations and Terminology — Quick References\n",
        "\n",
        "## List of Tables\n",
        "\n",
        "Table 1: Table name\n",
        "\n",
        "Table 2: Table name\n",
        "\n",
        "Table 3: Table name\n",
        "\n",
        "## List of Graphics & Figures\n",
        "\n",
        "## List of Abbreviations\n",
        "\n",
        "esp. especially\n",
        "\n",
        "f., ff. following\n",
        "\n",
        "incl. including\n",
        "\n",
        "p., pp. page(s)\n",
        "\n",
        "MAD Mutually Assured Destruction\n",
        "\n",
        "## Glossary"
      ],
      "id": "569fe36f-eee7-4d53-b7fc-62da410fe057"
    }
  ],
  "nbformat": 4,
  "nbformat_minor": 5,
  "metadata": {
    "kernelspec": {
      "display_name": "Python 3",
      "language": "python",
      "name": "python3"
    }
  }
}