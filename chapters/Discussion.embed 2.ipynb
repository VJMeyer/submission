{
  "cells": [
    {
      "cell_type": "markdown",
      "metadata": {},
      "source": [
        "# Discussion\n",
        "\n",
        "10% of Grade:\n",
        "\n",
        "• discusses a specific objection to student’s own argument • provides a\n",
        "convincing reply that bolsters or refines the main argument • relates to\n",
        "or extends beyond materials/arguments covered in class\n",
        "\n",
        "~ 14% of text ~ 4200 words"
      ],
      "id": "514f0858-3e47-42fe-94d2-703d676af90c"
    }
  ],
  "nbformat": 4,
  "nbformat_minor": 5,
  "metadata": {
    "kernelspec": {
      "display_name": "Python 3",
      "language": "python",
      "name": "python3"
    }
  }
}