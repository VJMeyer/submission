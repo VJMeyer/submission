{
  "cells": [
    {
      "cell_type": "markdown",
      "metadata": {},
      "source": [
        "# \n",
        "\n",
        "# Methodology\n",
        "\n",
        "MTAIR / Carlsmith Model (Analytica) — Explanation (— is motivation:\n",
        "should come first)\n",
        "\n",
        "Kialo\n",
        "\n",
        "BayeServer / Rain/Sprinkler/Lawn DAG / BayesNet — Extended Example"
      ],
      "id": "987a3d4d-927c-4375-96d2-3849be215ac1"
    }
  ],
  "nbformat": 4,
  "nbformat_minor": 5,
  "metadata": {
    "kernelspec": {
      "display_name": "Python 3",
      "language": "python",
      "name": "python3"
    }
  }
}