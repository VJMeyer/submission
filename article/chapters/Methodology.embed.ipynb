{
  "cells": [
    {
      "cell_type": "markdown",
      "metadata": {},
      "source": [
        "# \n",
        "\n",
        "# Methodology\n",
        "\n",
        "MTAIR / Carlsmith Model (Analytica) — Explanation (— is motivation:\n",
        "should come first)\n",
        "\n",
        "Kialo\n",
        "\n",
        "BayeServer / Rain/Sprinkler/Lawn DAG / BayesNet — Extended Example"
      ],
      "id": "eda13c46-9a5e-42ec-b9e1-9eaacaad33e6"
    }
  ],
  "nbformat": 4,
  "nbformat_minor": 5,
  "metadata": {
    "kernelspec": {
      "display_name": "Python 3",
      "language": "python",
      "name": "python3"
    }
  }
}