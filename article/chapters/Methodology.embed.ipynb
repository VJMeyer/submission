{
  "cells": [
    {
      "cell_type": "markdown",
      "metadata": {},
      "source": [
        "# \n",
        "\n",
        "# Methodology\n",
        "\n",
        "Causal Bayesian Networks — Directed Acyclical Graphs"
      ],
      "id": "8aafbb5e-f626-4b26-bcc6-3288e3f7e3ed"
    }
  ],
  "nbformat": 4,
  "nbformat_minor": 5,
  "metadata": {
    "kernelspec": {
      "display_name": "Python 3",
      "language": "python",
      "name": "python3"
    }
  }
}