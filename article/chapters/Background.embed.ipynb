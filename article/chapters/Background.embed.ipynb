{
  "cells": [
    {
      "cell_type": "markdown",
      "metadata": {},
      "source": [
        "# \n",
        "\n",
        "# Background\n",
        "\n",
        "Background/Context: state of the art (MTAIR) … theoretical background\n",
        "considerations\n",
        "\n",
        "DAG / BayesNet Intro Example — Rain/Sprinkler/Lawn\n",
        "\n",
        "MTAIR / Carlsmith Model (Analytica) — Explanation (— is motivation:\n",
        "should come first)\n",
        "\n",
        "Kialo\n",
        "\n",
        "BayeServer / Rain/Sprinkler/Lawn DAG / BayesNet — Extended Example"
      ],
      "id": "5724fac4-04dd-4cc4-85f1-35aa94104aa1"
    }
  ],
  "nbformat": 4,
  "nbformat_minor": 5,
  "metadata": {
    "kernelspec": {
      "display_name": "Python 3",
      "language": "python",
      "name": "python3"
    }
  }
}