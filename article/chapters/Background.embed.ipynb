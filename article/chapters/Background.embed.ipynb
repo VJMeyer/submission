{
  "cells": [
    {
      "cell_type": "markdown",
      "metadata": {},
      "source": [
        "# \n",
        "\n",
        "# Background\n",
        "\n",
        "Background/Context: state of the art (MTAIR) … theoretical background\n",
        "considerations\n",
        "\n",
        "DAG / BayesNet Intro Example — Rain/Sprinkler/Lawn"
      ],
      "id": "3629784b-dce8-4590-8f69-03a8d7a25648"
    }
  ],
  "nbformat": 4,
  "nbformat_minor": 5,
  "metadata": {
    "kernelspec": {
      "display_name": "Python 3",
      "language": "python",
      "name": "python3"
    }
  }
}