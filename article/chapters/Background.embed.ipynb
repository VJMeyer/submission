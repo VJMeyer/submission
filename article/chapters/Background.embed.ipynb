{
  "cells": [
    {
      "cell_type": "markdown",
      "metadata": {},
      "source": [
        "# \n",
        "\n",
        "# Background\n",
        "\n",
        "Background/Context: state of the art (MTAIR) … theoretical background\n",
        "considerations\n",
        "\n",
        "DAG / BayesNet Intro Example — Rain/Sprinkler/Lawn"
      ],
      "id": "19246d66-5737-4d1a-9841-0cc73c94c2d4"
    }
  ],
  "nbformat": 4,
  "nbformat_minor": 5,
  "metadata": {
    "kernelspec": {
      "display_name": "Python 3",
      "language": "python",
      "name": "python3"
    }
  }
}