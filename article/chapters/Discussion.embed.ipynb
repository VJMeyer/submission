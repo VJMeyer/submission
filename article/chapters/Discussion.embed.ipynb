{
  "cells": [
    {
      "cell_type": "markdown",
      "metadata": {},
      "source": [
        "# Discussion\n",
        "\n",
        "10% of Grade:\n",
        "\n",
        "• discusses a specific objection to student’s own argument • provides a\n",
        "convincing reply that bolsters or refines the main argument • relates to\n",
        "or extends beyond materials/arguments covered in class\n",
        "\n",
        "~ 14% of text ~ 4200 words"
      ],
      "id": "69524e2c-0cdc-4157-b3de-1c540e6d68cd"
    }
  ],
  "nbformat": 4,
  "nbformat_minor": 5,
  "metadata": {
    "kernelspec": {
      "display_name": "Python 3",
      "language": "python",
      "name": "python3"
    }
  }
}