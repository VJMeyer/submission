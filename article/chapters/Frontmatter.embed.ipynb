{
  "cells": [
    {
      "cell_type": "markdown",
      "metadata": {},
      "source": [
        "# Frontmatter\n",
        "\n",
        "# Prefatory Apparatus: Illustrations and Terminology — Quick References\n",
        "\n",
        "## List of Tables\n",
        "\n",
        "Table 1: Table name\n",
        "\n",
        "Table 2: Table name\n",
        "\n",
        "Table 3: Table name\n",
        "\n",
        "## List of Graphics & Figures\n",
        "\n",
        "## List of Abbreviations\n",
        "\n",
        "esp. especially\n",
        "\n",
        "f., ff. following\n",
        "\n",
        "incl. including\n",
        "\n",
        "p., pp. page(s)\n",
        "\n",
        "MAD Mutually Assured Destruction\n",
        "\n",
        "## Glossary"
      ],
      "id": "a1b72357-4b0d-46b2-a5cc-0a22906823b9"
    }
  ],
  "nbformat": 4,
  "nbformat_minor": 5,
  "metadata": {
    "kernelspec": {
      "display_name": "Python 3",
      "language": "python",
      "name": "python3"
    }
  }
}