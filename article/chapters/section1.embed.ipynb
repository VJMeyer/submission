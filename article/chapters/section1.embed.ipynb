{
  "cells": [
    {
      "cell_type": "markdown",
      "metadata": {},
      "source": [
        "# Introduction\n",
        "\n",
        "This is a booooook created from markdown and executable code.\n",
        "\n",
        "See \\[@knuth84\\] and @knuth84 for additional discussion of literate\n",
        "programming.\n",
        "\n",
        "Regular markdown and $E=mc^2$ equations.\n",
        "\n",
        "## Quarto\n",
        "\n",
        "Quarto enables you to weave together content and executable code into a\n",
        "finished document. To learn more about Quarto see <https://quarto.org>.\n",
        "\n",
        "## Running Code\n",
        "\n",
        "When you click the **Render** button a document will be generated that\n",
        "includes both content and the output of embedded code. You can embed\n",
        "code like this:"
      ],
      "id": "5c9cd77a-e4ad-4e45-8208-7fc2a66e21c3"
    },
    {
      "cell_type": "code",
      "execution_count": 1,
      "metadata": {},
      "outputs": [
        {
          "output_type": "display_data",
          "metadata": {},
          "data": {
            "text/plain": [
              "2"
            ]
          }
        }
      ],
      "source": [
        "1 + 1"
      ],
      "id": "3d716343"
    },
    {
      "cell_type": "markdown",
      "metadata": {},
      "source": [
        "You can add options to executable code like this"
      ],
      "id": "8af4c510-ecaf-46d8-8936-5b9c179990a8"
    },
    {
      "cell_type": "code",
      "execution_count": 2,
      "metadata": {},
      "outputs": [
        {
          "output_type": "display_data",
          "metadata": {},
          "data": {
            "text/plain": [
              "4"
            ]
          }
        }
      ],
      "source": [
        "#| echo: false\n",
        "2 * 2"
      ],
      "id": "98ce45ef"
    },
    {
      "cell_type": "markdown",
      "metadata": {},
      "source": [
        "The `echo: false` option disables the printing of code (only output is\n",
        "displayed)."
      ],
      "id": "5e75991e-9b0a-4efb-9efc-5c743e965723"
    },
    {
      "cell_type": "code",
      "execution_count": 3,
      "metadata": {},
      "outputs": [
        {
          "output_type": "display_data",
          "metadata": {},
          "data": {
            "text/plain": [
              "2"
            ]
          }
        }
      ],
      "source": [
        "1 + 1"
      ],
      "id": "1aa3ab93"
    },
    {
      "cell_type": "markdown",
      "metadata": {},
      "source": [
        "More markdown.\n",
        "\n",
        "## ToDo’s\n",
        "\n",
        "// Double slash creates a new task"
      ],
      "id": "107d72ae-30ec-4cd5-bccf-48eec503e95c"
    }
  ],
  "nbformat": 4,
  "nbformat_minor": 5,
  "metadata": {
    "kernelspec": {
      "name": "python3",
      "display_name": "Python 3 (ipykernel)",
      "language": "python",
      "path": "/Users/vjm/mambaforge/envs/quarto-env/share/jupyter/kernels/python3"
    },
    "language_info": {
      "name": "python",
      "codemirror_mode": {
        "name": "ipython",
        "version": "3"
      },
      "file_extension": ".py",
      "mimetype": "text/x-python",
      "nbconvert_exporter": "python",
      "pygments_lexer": "ipython3",
      "version": "3.11.12"
    }
  }
}