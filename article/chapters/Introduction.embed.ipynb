{
  "cells": [
    {
      "cell_type": "markdown",
      "metadata": {},
      "source": [
        "# Introduction\n",
        "\n",
        "10% of Grade:\n",
        "\n",
        "• introduces and motivates the core question or problem • provides\n",
        "context for discussion (places issue within a larger debate or sphere of\n",
        "relevance) • states precise thesis or position the author will argue for\n",
        "• provides roadmap indicating structure and key content points of the\n",
        "essay\n",
        "\n",
        "~ 14% of text ~ 4200 words"
      ],
      "id": "c0a3624d-bc5d-4faa-9dab-d5edaca20ed4"
    }
  ],
  "nbformat": 4,
  "nbformat_minor": 5,
  "metadata": {
    "kernelspec": {
      "display_name": "Python 3",
      "language": "python",
      "name": "python3"
    }
  }
}