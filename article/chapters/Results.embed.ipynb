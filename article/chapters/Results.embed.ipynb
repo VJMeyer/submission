{
  "cells": [
    {
      "cell_type": "markdown",
      "metadata": {},
      "source": [
        "# \n",
        "\n",
        "# Results\n",
        "\n",
        "TestText"
      ],
      "id": "6b4b9b75-2c11-4f57-8d3e-3da02b5f0d5a"
    }
  ],
  "nbformat": 4,
  "nbformat_minor": 5,
  "metadata": {
    "kernelspec": {
      "display_name": "Python 3",
      "language": "python",
      "name": "python3"
    }
  }
}