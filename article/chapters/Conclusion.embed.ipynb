{
  "cells": [
    {
      "cell_type": "markdown",
      "metadata": {},
      "source": [
        "# Conclusion\n",
        "\n",
        "10% of Grade:\n",
        "\n",
        "• summarizes thesis and line of argument • outlines possible\n",
        "implications • notes outstanding issues / limitations of discussion •\n",
        "points to avenues for further research • overall conclusion is in line\n",
        "with introduction\n",
        "\n",
        "~ 14% of text ~ 4200 words"
      ],
      "id": "16bd5b2f-c18e-4ac3-be9f-823d9f0c5aea"
    }
  ],
  "nbformat": 4,
  "nbformat_minor": 5,
  "metadata": {
    "kernelspec": {
      "display_name": "Python 3",
      "language": "python",
      "name": "python3"
    }
  }
}