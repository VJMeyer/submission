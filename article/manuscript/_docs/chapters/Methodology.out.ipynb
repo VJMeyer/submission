{
 "cells": [
  {
   "cell_type": "markdown",
   "metadata": {},
   "source": [
    "# \n",
    "\n",
    "# Methodology\n",
    "\n",
    "Causal Bayesian Networks — Directed Acyclical Graphs"
   ],
   "id": "48b7e0d1-a007-4778-a8e1-2e74571f95ea"
  }
 ],
 "nbformat": 4,
 "nbformat_minor": 5,
 "metadata": {}
}
