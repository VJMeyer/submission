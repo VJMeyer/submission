{
 "cells": [
  {
   "cell_type": "markdown",
   "metadata": {},
   "source": [
    "# AMTAIR\n",
    "\n",
    "20% of Grade:\n",
    "\n",
    "• provides critical or constructive evaluation of positions introduced • develops strong (plausible) argument in support of author’s own position/thesis • argument draws on relevant course material • claim/argument demonstrates understanding of the course materials incl. key arguments and core concepts within the debate • claim/argument is original or insightful, possibly even presents an original contribution to the debate\n",
    "\n",
    "~ 29% of text ~ 8700 words\n",
    "\n",
    "# \n",
    "\n",
    "# Implementation\n",
    "\n",
    "TestText\n",
    "\n",
    "# \n",
    "\n",
    "# Results\n",
    "\n",
    "TestText"
   ],
   "id": "d427650a-fe41-4809-ab30-5810652da659"
  }
 ],
 "nbformat": 4,
 "nbformat_minor": 5,
 "metadata": {}
}
