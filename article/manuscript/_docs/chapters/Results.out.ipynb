{
 "cells": [
  {
   "cell_type": "markdown",
   "metadata": {},
   "source": [
    "# \n",
    "\n",
    "# Results\n",
    "\n",
    "TestText"
   ],
   "id": "a32b09e6-1bac-4dc7-bfa5-08f03ea53c20"
  }
 ],
 "nbformat": 4,
 "nbformat_minor": 5,
 "metadata": {}
}
