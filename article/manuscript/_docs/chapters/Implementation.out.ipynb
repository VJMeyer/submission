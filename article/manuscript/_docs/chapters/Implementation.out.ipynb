{
 "cells": [
  {
   "cell_type": "markdown",
   "metadata": {},
   "source": [
    "# \n",
    "\n",
    "# Implementation\n",
    "\n",
    "TestText"
   ],
   "id": "020783f6-f4d9-45d1-ac86-90a379b8cd81"
  }
 ],
 "nbformat": 4,
 "nbformat_minor": 5,
 "metadata": {}
}
