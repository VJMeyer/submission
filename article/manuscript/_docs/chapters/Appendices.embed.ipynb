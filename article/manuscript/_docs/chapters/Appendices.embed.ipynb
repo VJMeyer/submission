{
 "cells": [
  {
   "cell_type": "markdown",
   "metadata": {},
   "source": [
    "# Appendices\n",
    "\n",
    "# Appendix A\n",
    "\n",
    "# Appendix B\n",
    "\n",
    "# Appendix C\n",
    "\n",
    "# Appendix D\n",
    "\n",
    "TestText\n",
    "\n",
    "# Affidavit"
   ],
   "id": "c986b841-c37f-45da-970d-79e87b470504"
  }
 ],
 "nbformat": 4,
 "nbformat_minor": 5,
 "metadata": {}
}
