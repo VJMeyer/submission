{
 "cells": [
  {
   "cell_type": "markdown",
   "metadata": {},
   "source": [
    "# \n",
    "\n",
    "# Introduction\n",
    "\n",
    "10% of Grade:\n",
    "\n",
    "• introduces and motivates the core question or problem • provides context for discussion (places issue within a larger debate or sphere of relevance) • states precise thesis or position the author will argue for • provides roadmap indicating structure and key content points of the essay\n",
    "\n",
    "~ 14% of text ~ 4200 words\n",
    "\n",
    "• introduces and motivates the core question or problem\n",
    "\n",
    "## Motivation: Problem Statement\n",
    "\n",
    "## Motivation: Research Question\n",
    "\n",
    "• provides context for discussion (places issue within a larger debate or sphere of relevance)\n",
    "\n",
    "## Scope: Aim & Context of the Paper\n",
    "\n",
    "## Significance of the Research: Theory of Change\n",
    "\n",
    "• states precise thesis or position the author will argue for\n",
    "\n",
    "## Thesis Statement & Position: (Aim of the Paper)\n",
    "\n",
    "• provides roadmap indicating structure and key content points of the essay\n",
    "\n",
    "## Overview: Structure & Approach of the Paper (— Theory of Change)\n",
    "\n",
    "## Table of Contents"
   ],
   "id": "72bcc112-3e02-45aa-9699-90d1241cd204"
  }
 ],
 "nbformat": 4,
 "nbformat_minor": 5,
 "metadata": {}
}
