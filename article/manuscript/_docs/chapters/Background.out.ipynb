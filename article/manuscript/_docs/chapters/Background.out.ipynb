{
 "cells": [
  {
   "cell_type": "markdown",
   "metadata": {},
   "source": [
    "# \n",
    "\n",
    "# Background\n",
    "\n",
    "Background/Context: state of the art (MTAIR) … theoretical background considerations\n",
    "\n",
    "DAG / BayesNet Intro Example — Rain/Sprinkler/Lawn\n",
    "\n",
    "MTAIR / Carlsmith Model (Analytica) — Explanation (— is motivation: should come first)\n",
    "\n",
    "Kialo\n",
    "\n",
    "BayeServer / Rain/Sprinkler/Lawn DAG / BayesNet — Extended Example"
   ],
   "id": "c42d6468-c14b-49d0-badd-8772598330d0"
  }
 ],
 "nbformat": 4,
 "nbformat_minor": 5,
 "metadata": {}
}
