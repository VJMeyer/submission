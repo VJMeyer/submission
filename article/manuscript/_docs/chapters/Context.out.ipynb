{
 "cells": [
  {
   "cell_type": "markdown",
   "metadata": {},
   "source": [
    "# Context\n",
    "\n",
    "20% of Grade:\n",
    "\n",
    "• demonstrates understanding of all relevant core concepts • explains why the question/thesis/problem is relevant in student’s own words (supported by quotations) • situates it within the debate/course material • reconstructs selected arguments and identifies relevant assumptions • describes additional relevant material that has been consulted and integrates it with the course material as well as the research question/thesis/problem\n",
    "\n",
    "~ 29% of text ~ 8700 words\n",
    "\n",
    "1.  successively (chunk my chunk) introduce concepts/ideas — and 2. ground each with existing literature\n",
    "\n",
    "# \n",
    "\n",
    "# Background\n",
    "\n",
    "Background/Context: state of the art (MTAIR) … theoretical background considerations\n",
    "\n",
    "DAG / BayesNet Intro Example — Rain/Sprinkler/Lawn\n",
    "\n",
    "MTAIR / Carlsmith Model (Analytica) — Explanation (— is motivation: should come first)\n",
    "\n",
    "Kialo\n",
    "\n",
    "BayeServer / Rain/Sprinkler/Lawn DAG / BayesNet — Extended Example\n",
    "\n",
    "# \n",
    "\n",
    "# Methodology\n",
    "\n",
    "Causal Bayesian Networks — Directed Acyclical Graphs"
   ],
   "id": "c8b389e6-a1c4-4b43-a2b5-66b6cf307ea9"
  }
 ],
 "nbformat": 4,
 "nbformat_minor": 5,
 "metadata": {}
}
