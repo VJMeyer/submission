{
 "cells": [
  {
   "cell_type": "markdown",
   "metadata": {},
   "source": [
    "# Introduction"
   ],
   "id": "3aa4c0b3-13a8-4606-909d-c6597fb274ba"
  },
  {
   "cell_type": "markdown",
   "metadata": {},
   "source": [
    "This is a booooook created from markdown and executable code.\n",
    "\n",
    "See \\[@knuth84\\] and @knuth84 for additional discussion of literate programming.\n",
    "\n",
    "Regular markdown and $E=mc^2$ equations.\n",
    "\n",
    "## Quarto\n",
    "\n",
    "Quarto enables you to weave together content and executable code into a finished document. To learn more about Quarto see <https://quarto.org>.\n",
    "\n",
    "## Running Code\n",
    "\n",
    "When you click the **Render** button a document will be generated that includes both content and the output of embedded code. You can embed code like this:"
   ],
   "id": "b94a2f5c"
  },
  {
   "cell_type": "code",
   "execution_count": 1,
   "metadata": {},
   "outputs": [
    {
     "output_type": "display_data",
     "metadata": {},
     "data": {
      "text/plain": [
       "2"
      ]
     }
    }
   ],
   "source": [
    "1 + 1"
   ],
   "id": "5b63f61d"
  },
  {
   "cell_type": "markdown",
   "metadata": {},
   "source": [
    "You can add options to executable code like this"
   ],
   "id": "92a821ac"
  },
  {
   "cell_type": "code",
   "execution_count": 2,
   "metadata": {},
   "outputs": [
    {
     "output_type": "display_data",
     "metadata": {},
     "data": {
      "text/plain": [
       "4"
      ]
     }
    }
   ],
   "source": [
    "#| echo: false\n",
    "2 * 2"
   ],
   "id": "18c791a6"
  },
  {
   "cell_type": "markdown",
   "metadata": {},
   "source": [
    "The `echo: false` option disables the printing of code (only output is displayed)."
   ],
   "id": "71b0fd01"
  },
  {
   "cell_type": "code",
   "execution_count": 3,
   "metadata": {},
   "outputs": [
    {
     "output_type": "display_data",
     "metadata": {},
     "data": {
      "text/plain": [
       "2"
      ]
     }
    }
   ],
   "source": [
    "1 + 1"
   ],
   "id": "32be428a"
  },
  {
   "cell_type": "markdown",
   "metadata": {},
   "source": [
    "More markdown.\n",
    "\n",
    "## ToDo’s\n",
    "\n",
    "// Double slash creates a new task"
   ],
   "id": "dc927768"
  }
 ],
 "nbformat": 4,
 "nbformat_minor": 5,
 "metadata": {}
}
