{
 "cells": [
  {
   "cell_type": "markdown",
   "metadata": {},
   "source": [
    "# \n",
    "\n",
    "# Frontmatter\n",
    "\n",
    "# Prefatory Apparatus: Illustrations and Terminology — Quick References\n",
    "\n",
    "## List of Tables\n",
    "\n",
    "Table 1: Table name\n",
    "\n",
    "Table 2: Table name\n",
    "\n",
    "Table 3: Table name\n",
    "\n",
    "## List of Graphics & Figures\n",
    "\n",
    "## List of Abbreviations\n",
    "\n",
    "esp. especially\n",
    "\n",
    "f., ff. following\n",
    "\n",
    "incl. including\n",
    "\n",
    "p., pp. page(s)\n",
    "\n",
    "MAD Mutually Assured Destruction\n",
    "\n",
    "## Glossary"
   ],
   "id": "50c61980-44db-4184-ad58-ef7af8dc6ac1"
  }
 ],
 "nbformat": 4,
 "nbformat_minor": 5,
 "metadata": {}
}
